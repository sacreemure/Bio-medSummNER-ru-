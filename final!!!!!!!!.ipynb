{
 "cells": [
  {
   "cell_type": "markdown",
   "id": "04ffd0f7-38f8-453e-b6b9-a5a88fb8f56a",
   "metadata": {},
   "source": [
    "делаем:\n",
    "1) гпт с стопсловами\n",
    "2) т5 с стопсловами\n",
    "3) гпт с нер и стопсловами\n",
    "4) т5 с нер и стопсловами\n",
    "5) гпт без стопслов\n",
    "6) т5 без стопслов\n",
    "   "
   ]
  },
  {
   "cell_type": "code",
   "execution_count": 3,
   "id": "bca063c6-ec01-4340-907d-a759c1a0fa0a",
   "metadata": {},
   "outputs": [],
   "source": [
    "import pandas as pd\n",
    "import numpy as np\n",
    "import re\n",
    "from transformers import pipeline, AutoTokenizer, AutoModelForMaskedLM, AutoModelForSeq2SeqLM, AutoModelForTokenClassification, AutoModelForCausalLM\n",
    "from tqdm.auto import tqdm\n",
    "tqdm.pandas()"
   ]
  },
  {
   "cell_type": "code",
   "execution_count": 4,
   "id": "0e18e53b-9fe0-436b-b339-4a45fa1e5ceb",
   "metadata": {},
   "outputs": [],
   "source": [
    "df = pd.read_csv(r\"C:\\Users\\dvb07\\OneDrive\\VKR\\texts_med.csv\")"
   ]
  },
  {
   "cell_type": "code",
   "execution_count": 5,
   "id": "5f5e1710-b2b0-4b82-a015-77524138fb18",
   "metadata": {},
   "outputs": [],
   "source": [
    "tokenizer_gpt = AutoTokenizer.from_pretrained(\"IlyaGusev/rugpt3medium_sum_gazeta\")\n",
    "model_gpt = AutoModelForCausalLM.from_pretrained(\"IlyaGusev/rugpt3medium_sum_gazeta\")"
   ]
  },
  {
   "cell_type": "code",
   "execution_count": 6,
   "id": "f0c82232-0889-4ee8-8486-85af94d1e82a",
   "metadata": {},
   "outputs": [],
   "source": [
    "tokenizer_sacreemure = AutoTokenizer.from_pretrained(\"sacreemure/med_t5_summ_ru\")\n",
    "model_sacreemure = AutoModelForSeq2SeqLM.from_pretrained(\"sacreemure/med_t5_summ_ru\")"
   ]
  },
  {
   "cell_type": "code",
   "execution_count": 49,
   "id": "01ab705e-5350-441e-b9a8-2d7cc5b730ed",
   "metadata": {},
   "outputs": [],
   "source": [
    "from rouge import Rouge\n",
    "from evaluate import load\n",
    "import evaluate\n",
    "from sacrebleu.metrics import BLEU\n",
    "from bert_score import score as bert_score\n",
    "from nltk.translate.bleu_score import corpus_bleu\n",
    "from nltk.translate.bleu_score import SmoothingFunction\n",
    "from nltk.translate.meteor_score import meteor_score\n",
    "import sacrebleu\n",
    "import seaborn as sns\n",
    "import matplotlib.pyplot as plt"
   ]
  },
  {
   "cell_type": "markdown",
   "id": "6a523178-b34e-42f3-9e3b-c213967936c2",
   "metadata": {},
   "source": [
    "## гпт без стопслов"
   ]
  },
  {
   "cell_type": "markdown",
   "id": "e5cdcfd9-d319-4533-ad11-552746460b43",
   "metadata": {},
   "source": [
    "### тексты"
   ]
  },
  {
   "cell_type": "code",
   "execution_count": 7,
   "id": "e6d9b7b5-a69c-4303-949b-8f1afb303a46",
   "metadata": {},
   "outputs": [],
   "source": [
    "def summarize(article):\n",
    "        \n",
    "    input_ids = tokenizer_gpt(article, return_tensors='pt', max_length=400, truncation=True, padding=True)[\"input_ids\"]\n",
    "\n",
    "    output_ids = model_gpt.generate(input_ids, max_new_tokens=300, repetition_penalty = 7.0, num_return_sequences=5, temperature = 0.7, top_k=50, early_stopping=True)[0]\n",
    "\n",
    "    summary = tokenizer_gpt.decode(output_ids, skip_special_tokens=True)\n",
    "    \n",
    "    return summary"
   ]
  },
  {
   "cell_type": "code",
   "execution_count": 8,
   "id": "0953f2a9-1bbd-42dd-8ee1-2a0cdb8a57c6",
   "metadata": {},
   "outputs": [
    {
     "data": {
      "application/vnd.jupyter.widget-view+json": {
       "model_id": "5d244c04aaa149bba1e68770b7aa9697",
       "version_major": 2,
       "version_minor": 0
      },
      "text/plain": [
       "  0%|          | 0/10 [00:00<?, ?it/s]"
      ]
     },
     "metadata": {},
     "output_type": "display_data"
    },
    {
     "name": "stderr",
     "output_type": "stream",
     "text": [
      "C:\\Users\\dvb07\\AppData\\Local\\Programs\\Python\\Python312\\Lib\\site-packages\\transformers\\generation\\configuration_utils.py:492: UserWarning: `do_sample` is set to `False`. However, `temperature` is set to `0.7` -- this flag is only used in sample-based generation modes. You should set `do_sample=True` or unset `temperature`.\n",
      "  warnings.warn(\n"
     ]
    }
   ],
   "source": [
    "df['summary'] = df['text'].progress_apply(summarize)"
   ]
  },
  {
   "cell_type": "code",
   "execution_count": 33,
   "id": "1cca1a5c-8f95-4fde-97c9-bd8cdf89a35c",
   "metadata": {},
   "outputs": [],
   "source": [
    "df.to_csv('gptnosw.csv')"
   ]
  },
  {
   "cell_type": "code",
   "execution_count": 81,
   "id": "931b283c-aa41-4d4c-9975-5a2b88d9f0d8",
   "metadata": {},
   "outputs": [
    {
     "data": {
      "text/html": [
       "<div>\n",
       "<style scoped>\n",
       "    .dataframe tbody tr th:only-of-type {\n",
       "        vertical-align: middle;\n",
       "    }\n",
       "\n",
       "    .dataframe tbody tr th {\n",
       "        vertical-align: top;\n",
       "    }\n",
       "\n",
       "    .dataframe thead th {\n",
       "        text-align: right;\n",
       "    }\n",
       "</style>\n",
       "<table border=\"1\" class=\"dataframe\">\n",
       "  <thead>\n",
       "    <tr style=\"text-align: right;\">\n",
       "      <th></th>\n",
       "      <th>annotation</th>\n",
       "      <th>text</th>\n",
       "      <th>summary</th>\n",
       "    </tr>\n",
       "  </thead>\n",
       "  <tbody>\n",
       "    <tr>\n",
       "      <th>7</th>\n",
       "      <td>Известно, что для пациентов с мультифокальным ...</td>\n",
       "      <td>Введение\\r\\nАтеросклероз представляет собой си...</td>\n",
       "      <td>Введение\\r\\nАтеросклероз представляет собой си...</td>\n",
       "    </tr>\n",
       "    <tr>\n",
       "      <th>1</th>\n",
       "      <td>Цель исследования: клинически и морфологически...</td>\n",
       "      <td>Введение\\r\\nСочетание катаракты и глаукомы выз...</td>\n",
       "      <td>Введение\\r\\nСочетание катаракты и глаукомы выз...</td>\n",
       "    </tr>\n",
       "    <tr>\n",
       "      <th>4</th>\n",
       "      <td>Цель исследования: провести сравнительный анал...</td>\n",
       "      <td>Введение\\r\\nОжирение — это гетерогенная группа...</td>\n",
       "      <td>Введение\\r\\nОжирение — это гетерогенная группа...</td>\n",
       "    </tr>\n",
       "    <tr>\n",
       "      <th>8</th>\n",
       "      <td>Астенический синдром является одним из наиболе...</td>\n",
       "      <td>Введение\\r\\nАстенический синдром является одни...</td>\n",
       "      <td>Введение\\r\\nАстенический синдром является одни...</td>\n",
       "    </tr>\n",
       "    <tr>\n",
       "      <th>9</th>\n",
       "      <td>Лечение больных с функциональными расстройства...</td>\n",
       "      <td>Введение\\r\\nАктуальность проблемы функциональн...</td>\n",
       "      <td>Введение\\r\\nАктуальность проблемы функциональн...</td>\n",
       "    </tr>\n",
       "  </tbody>\n",
       "</table>\n",
       "</div>"
      ],
      "text/plain": [
       "                                          annotation  \\\n",
       "7  Известно, что для пациентов с мультифокальным ...   \n",
       "1  Цель исследования: клинически и морфологически...   \n",
       "4  Цель исследования: провести сравнительный анал...   \n",
       "8  Астенический синдром является одним из наиболе...   \n",
       "9  Лечение больных с функциональными расстройства...   \n",
       "\n",
       "                                                text  \\\n",
       "7  Введение\\r\\nАтеросклероз представляет собой си...   \n",
       "1  Введение\\r\\nСочетание катаракты и глаукомы выз...   \n",
       "4  Введение\\r\\nОжирение — это гетерогенная группа...   \n",
       "8  Введение\\r\\nАстенический синдром является одни...   \n",
       "9  Введение\\r\\nАктуальность проблемы функциональн...   \n",
       "\n",
       "                                             summary  \n",
       "7  Введение\\r\\nАтеросклероз представляет собой си...  \n",
       "1  Введение\\r\\nСочетание катаракты и глаукомы выз...  \n",
       "4  Введение\\r\\nОжирение — это гетерогенная группа...  \n",
       "8  Введение\\r\\nАстенический синдром является одни...  \n",
       "9  Введение\\r\\nАктуальность проблемы функциональн...  "
      ]
     },
     "execution_count": 81,
     "metadata": {},
     "output_type": "execute_result"
    }
   ],
   "source": [
    "df.sample(5)"
   ]
  },
  {
   "cell_type": "markdown",
   "id": "3b32734a-47c4-4b07-90ef-661b18dc4825",
   "metadata": {},
   "source": [
    "### метрики"
   ]
  },
  {
   "cell_type": "code",
   "execution_count": 50,
   "id": "24de575e-d6b2-4a9e-b2fb-8709645b4334",
   "metadata": {},
   "outputs": [],
   "source": [
    "data = pd.read_csv(r\"C:\\Users\\dvb07\\OneDrive\\projects\\gptnosw.csv\")"
   ]
  },
  {
   "cell_type": "code",
   "execution_count": 55,
   "id": "5047798c-64f1-4bae-9bfc-63b14e598c1f",
   "metadata": {},
   "outputs": [],
   "source": [
    "import nltk"
   ]
  },
  {
   "cell_type": "code",
   "execution_count": 56,
   "id": "6034c88b-f4f4-42c4-bf61-9e64886eab62",
   "metadata": {},
   "outputs": [
    {
     "name": "stderr",
     "output_type": "stream",
     "text": [
      "[nltk_data] Downloading package punkt to\n",
      "[nltk_data]     C:\\Users\\dvb07\\AppData\\Roaming\\nltk_data...\n",
      "[nltk_data]   Package punkt is already up-to-date!\n"
     ]
    },
    {
     "data": {
      "text/plain": [
       "True"
      ]
     },
     "execution_count": 56,
     "metadata": {},
     "output_type": "execute_result"
    }
   ],
   "source": [
    "nltk.download('punkt')"
   ]
  },
  {
   "cell_type": "code",
   "execution_count": 62,
   "id": "6a1053e5-d4ce-401c-8145-c9d02dc4edab",
   "metadata": {},
   "outputs": [
    {
     "name": "stdout",
     "output_type": "stream",
     "text": [
      "Average BERTScore: 0.715637332201004\n",
      "Average BLEU Score: 0.02982698819626281\n",
      "Average ROUGE-1: 0.19419361796034423\n",
      "Average ROUGE-2: 0.07683851427040019\n",
      "Average ROUGE-L: 0.1844829401359945\n",
      "Average METEOR Score: 0.24033794153548063\n"
     ]
    }
   ],
   "source": [
    "rouge = Rouge()\n",
    "smoothing = SmoothingFunction()\n",
    "\n",
    "total_rouge_1 = 0.0\n",
    "total_rouge_2 = 0.0\n",
    "total_rouge_l = 0.0\n",
    "total_bert_score = 0.0\n",
    "total_bleu_score = 0.0\n",
    "total_meteor_score = 0.0\n",
    "num_pairs = len(data)\n",
    "\n",
    "for index, row in data.iterrows():\n",
    "    generated_summary = row['summary']\n",
    "    reference_summary = row['annotation']\n",
    "\n",
    "    _, _, bert_f1 = bert_score([generated_summary], [reference_summary], lang=\"ru\")\n",
    "    total_bert_score += bert_f1.item()\n",
    "    \n",
    "    # Calculate BLEU score using SacreBLEU\n",
    "    bleu = sacrebleu.corpus_bleu([generated_summary], [reference_summary])\n",
    "    total_bleu_score += bleu.score\n",
    "    \n",
    "    scores = rouge.get_scores(generated_summary, reference_summary)\n",
    "    total_rouge_1 += scores[0]['rouge-1']['f']\n",
    "    total_rouge_2 += scores[0]['rouge-2']['f']\n",
    "    total_rouge_l += scores[0]['rouge-l']['f']\n",
    "    \n",
    "    # Tokenize generated and reference summaries\n",
    "    generated_tokens = nltk.word_tokenize(generated_summary)\n",
    "    reference_tokens = nltk.word_tokenize(reference_summary)\n",
    "    \n",
    "    meteor = meteor_score([reference_tokens], generated_tokens)\n",
    "    total_meteor_score += meteor\n",
    "    \n",
    "\n",
    "avg_bert_score_gpt = total_bert_score / num_pairs\n",
    "avg_bleu_score_gpt = total_bleu_score / num_pairs\n",
    "avg_rouge_1_gpt = total_rouge_1 / num_pairs\n",
    "avg_rouge_2_gpt = total_rouge_2 / num_pairs\n",
    "avg_rouge_l_gpt = total_rouge_l / num_pairs\n",
    "avg_meteor_score_gpt = total_meteor_score / num_pairs\n",
    "\n",
    "\n",
    "print(f\"Average BERTScore: {avg_bert_score_gpt}\")\n",
    "print(f\"Average BLEU Score: {avg_bleu_score_gpt}\")\n",
    "print(f\"Average ROUGE-1: {avg_rouge_1_gpt}\")\n",
    "print(f\"Average ROUGE-2: {avg_rouge_2_gpt}\")\n",
    "print(f\"Average ROUGE-L: {avg_rouge_l_gpt}\")\n",
    "print(f\"Average METEOR Score: {avg_meteor_score_gpt}\")\n"
   ]
  },
  {
   "cell_type": "markdown",
   "id": "62f45787-4b9c-4cf6-9ceb-a7a3c94d571c",
   "metadata": {},
   "source": [
    "## гпт с стопсловами"
   ]
  },
  {
   "cell_type": "markdown",
   "id": "91ce51ce-f0ae-4ffa-b8d1-20f67acc56d2",
   "metadata": {
    "jp-MarkdownHeadingCollapsed": true
   },
   "source": [
    "### генерация"
   ]
  },
  {
   "cell_type": "code",
   "execution_count": 9,
   "id": "fc255665-25c5-47c7-a2f5-60ff9223502d",
   "metadata": {},
   "outputs": [],
   "source": [
    "df1 = pd.read_csv(r\"C:\\Users\\dvb07\\OneDrive\\VKR\\texts_med.csv\")"
   ]
  },
  {
   "cell_type": "code",
   "execution_count": 10,
   "id": "89f6875c-54ca-46b3-b30a-db099641a489",
   "metadata": {},
   "outputs": [],
   "source": [
    "def preprocess_text(article):\n",
    "    stop_words = [\"введение\", \"выводы\", \"данные\", \"заключение\"]\n",
    "    reference_pattern = r'\\[\\d+\\]'\n",
    "\n",
    "    for word in stop_words:\n",
    "        article = article.replace(word, \"\")\n",
    "\n",
    "    article = re.sub(reference_pattern, '', article)\n",
    "\n",
    "    return article\n",
    "\n",
    "def summarize(article):\n",
    "    input_ids = tokenizer_gpt(article, return_tensors='pt', max_length=400, truncation=True, padding=True)[\"input_ids\"]\n",
    "\n",
    "    output_ids = model_gpt.generate(input_ids, max_new_tokens=300, repetition_penalty=7.0, num_return_sequences=5, temperature=0.7, top_k=50, early_stopping=True)[0]\n",
    "\n",
    "    summary = tokenizer_gpt.decode(output_ids, skip_special_tokens=True)\n",
    "    \n",
    "    return summary\n"
   ]
  },
  {
   "cell_type": "code",
   "execution_count": 11,
   "id": "ad0e6ab2-379e-4e3a-a18e-05da95e5cd6f",
   "metadata": {},
   "outputs": [
    {
     "data": {
      "application/vnd.jupyter.widget-view+json": {
       "model_id": "aa51b78751164ce1a6e1fb09c5ab5e03",
       "version_major": 2,
       "version_minor": 0
      },
      "text/plain": [
       "  0%|          | 0/10 [00:00<?, ?it/s]"
      ]
     },
     "metadata": {},
     "output_type": "display_data"
    },
    {
     "name": "stderr",
     "output_type": "stream",
     "text": [
      "C:\\Users\\dvb07\\AppData\\Local\\Programs\\Python\\Python312\\Lib\\site-packages\\transformers\\generation\\configuration_utils.py:492: UserWarning: `do_sample` is set to `False`. However, `temperature` is set to `0.7` -- this flag is only used in sample-based generation modes. You should set `do_sample=True` or unset `temperature`.\n",
      "  warnings.warn(\n"
     ]
    }
   ],
   "source": [
    "df1['preprocessed_text'] = df1['text'].apply(preprocess_text)\n",
    "\n",
    "df1['summary'] = df1['preprocessed_text'].progress_apply(summarize)\n"
   ]
  },
  {
   "cell_type": "code",
   "execution_count": 32,
   "id": "ef1e0ba7-d275-4b8f-b69e-5a8cad5aca42",
   "metadata": {},
   "outputs": [],
   "source": [
    "df1.to_csv('gptstopwords.csv')"
   ]
  },
  {
   "cell_type": "markdown",
   "id": "58631089-44bd-4e72-8dec-5f313146e2f0",
   "metadata": {},
   "source": [
    "### metrics"
   ]
  },
  {
   "cell_type": "code",
   "execution_count": 63,
   "id": "7fdf81ef-b19a-443e-90b3-7430f42496a0",
   "metadata": {},
   "outputs": [
    {
     "name": "stdout",
     "output_type": "stream",
     "text": [
      "Average BERTScore: 0.7168043434619904\n",
      "Average BLEU Score: 0.033149525413434265\n",
      "Average ROUGE-1: 0.20246236377047128\n",
      "Average ROUGE-2: 0.08386632593653817\n",
      "Average ROUGE-L: 0.19235825418803132\n",
      "Average METEOR Score: 0.24676002232004768\n"
     ]
    }
   ],
   "source": [
    "data = pd.read_csv(r\"C:\\Users\\dvb07\\OneDrive\\projects\\gptstopwords.csv\")\n",
    "\n",
    "rouge = Rouge()\n",
    "\n",
    "total_rouge_1 = 0.0\n",
    "total_rouge_2 = 0.0\n",
    "total_rouge_l = 0.0\n",
    "total_bert_score = 0.0\n",
    "total_bleu_score = 0.0\n",
    "total_meteor_score = 0.0\n",
    "num_pairs = len(data)\n",
    "\n",
    "for index, row in data.iterrows():\n",
    "    generated_summary = row['summary']\n",
    "    reference_summary = row['annotation']\n",
    "\n",
    "    _, _, bert_f1 = bert_score([generated_summary], [reference_summary], lang=\"ru\")\n",
    "    total_bert_score += bert_f1.item()\n",
    "    \n",
    "    bleu = sacrebleu.corpus_bleu([generated_summary], [reference_summary])\n",
    "    total_bleu_score += bleu.score\n",
    "    \n",
    "    scores = rouge.get_scores(generated_summary, reference_summary)\n",
    "    total_rouge_1 += scores[0]['rouge-1']['f']\n",
    "    total_rouge_2 += scores[0]['rouge-2']['f']\n",
    "    total_rouge_l += scores[0]['rouge-l']['f']\n",
    "    \n",
    "    generated_tokens = nltk.word_tokenize(generated_summary)\n",
    "    reference_tokens = nltk.word_tokenize(reference_summary)\n",
    "    \n",
    "    meteor = meteor_score([reference_tokens], generated_tokens)\n",
    "    total_meteor_score += meteor\n",
    "    \n",
    "\n",
    "avg_bert_score_gptsw = total_bert_score / num_pairs\n",
    "avg_bleu_score_gptsw = total_bleu_score / num_pairs\n",
    "avg_rouge_1_gptsw = total_rouge_1 / num_pairs\n",
    "avg_rouge_2_gptsw = total_rouge_2 / num_pairs\n",
    "avg_rouge_l_gptsw = total_rouge_l / num_pairs\n",
    "avg_meteor_score_gptsw = total_meteor_score / num_pairs\n",
    "\n",
    "\n",
    "print(f\"Average BERTScore: {avg_bert_score_gptsw}\")\n",
    "print(f\"Average BLEU Score: {avg_bleu_score_gptsw}\")\n",
    "print(f\"Average ROUGE-1: {avg_rouge_1_gptsw}\")\n",
    "print(f\"Average ROUGE-2: {avg_rouge_2_gptsw}\")\n",
    "print(f\"Average ROUGE-L: {avg_rouge_l_gptsw}\")\n",
    "print(f\"Average METEOR Score: {avg_meteor_score_gptsw}\")\n"
   ]
  },
  {
   "cell_type": "markdown",
   "id": "34087b94-d4d5-4a7d-a7b6-a4e8793d8313",
   "metadata": {},
   "source": [
    "------------------"
   ]
  },
  {
   "cell_type": "code",
   "execution_count": 12,
   "id": "af431899-68c9-43a6-8c00-399efa14d9f4",
   "metadata": {},
   "outputs": [
    {
     "name": "stdout",
     "output_type": "stream",
     "text": [
      "WARNING:tensorflow:From C:\\Users\\dvb07\\AppData\\Local\\Programs\\Python\\Python312\\Lib\\site-packages\\tf_keras\\src\\losses.py:2976: The name tf.losses.sparse_softmax_cross_entropy is deprecated. Please use tf.compat.v1.losses.sparse_softmax_cross_entropy instead.\n",
      "\n"
     ]
    }
   ],
   "source": [
    "pipe = pipeline(\"token-classification\", model=\"denis-gordeev/rured2-ner-microsoft-mdeberta-v3-base\")"
   ]
  },
  {
   "cell_type": "markdown",
   "id": "1c2d4608-f7d2-4ac9-b1dc-770be08a3f37",
   "metadata": {},
   "source": [
    "---------------------------------------"
   ]
  },
  {
   "cell_type": "markdown",
   "id": "60b27743-bae1-4e06-bdcd-497d9aa1ad47",
   "metadata": {},
   "source": [
    "## гпт с нер"
   ]
  },
  {
   "cell_type": "markdown",
   "id": "8a996ec2-b175-4256-9d81-b8f96271ad51",
   "metadata": {
    "jp-MarkdownHeadingCollapsed": true
   },
   "source": [
    "### texts"
   ]
  },
  {
   "cell_type": "code",
   "execution_count": 34,
   "id": "30d9605e-7105-4697-bb9a-4828b9244b07",
   "metadata": {},
   "outputs": [],
   "source": [
    "df2 = pd.read_csv(r\"C:\\Users\\dvb07\\OneDrive\\VKR\\texts_med.csv\")"
   ]
  },
  {
   "cell_type": "code",
   "execution_count": 35,
   "id": "6348f3f4-96ac-409f-9c5a-c2963c54a97f",
   "metadata": {},
   "outputs": [],
   "source": [
    "def summarize(article):\n",
    "    \n",
    "    ner_results = pipe(article)\n",
    "    entities = [entity['word'] for entity in ner_results if entity['entity'] != 'O']\n",
    "    entity_string = \" \".join(entities)\n",
    "\n",
    "    max_length = 2048 - len(entity_string)\n",
    "\n",
    "    input_ids = tokenizer_gpt(article, return_tensors='pt', max_length=max_length, truncation=True, padding=True)[\"input_ids\"]\n",
    "\n",
    "    output_ids = model_gpt.generate(input_ids, max_new_tokens=300, repetition_penalty = 7.0, num_return_sequences=5, temperature = 0.7, top_k=50, early_stopping=True)[0]\n",
    "\n",
    "    summary = tokenizer_gpt.decode(output_ids, skip_special_tokens=True)\n",
    "    \n",
    "    return summary"
   ]
  },
  {
   "cell_type": "code",
   "execution_count": 36,
   "id": "27fbb4c8-17a6-46c3-aec8-1ede0ad0e03a",
   "metadata": {},
   "outputs": [
    {
     "data": {
      "application/vnd.jupyter.widget-view+json": {
       "model_id": "40a8ab0619934ec8b7744f7cdf87e460",
       "version_major": 2,
       "version_minor": 0
      },
      "text/plain": [
       "  0%|          | 0/10 [00:00<?, ?it/s]"
      ]
     },
     "metadata": {},
     "output_type": "display_data"
    },
    {
     "name": "stderr",
     "output_type": "stream",
     "text": [
      "C:\\Users\\dvb07\\AppData\\Local\\Programs\\Python\\Python312\\Lib\\site-packages\\transformers\\generation\\configuration_utils.py:492: UserWarning: `do_sample` is set to `False`. However, `temperature` is set to `0.7` -- this flag is only used in sample-based generation modes. You should set `do_sample=True` or unset `temperature`.\n",
      "  warnings.warn(\n"
     ]
    }
   ],
   "source": [
    "df2['summary'] = df2['text'].progress_apply(summarize)"
   ]
  },
  {
   "cell_type": "code",
   "execution_count": 37,
   "id": "68f31d29-69af-4499-8243-14a1d8a7d20f",
   "metadata": {},
   "outputs": [],
   "source": [
    "df2.to_csv('gptner.csv')"
   ]
  },
  {
   "cell_type": "markdown",
   "id": "77f3a2d9-fd67-45f2-bd02-04d41c51ab58",
   "metadata": {},
   "source": [
    "### metrics"
   ]
  },
  {
   "cell_type": "code",
   "execution_count": 65,
   "id": "3878dba6-e7d2-4f44-87db-7bc92a48e616",
   "metadata": {},
   "outputs": [
    {
     "name": "stdout",
     "output_type": "stream",
     "text": [
      "Average BERTScore: 0.7155093729496003\n",
      "Average BLEU Score: 0.015052887837225332\n",
      "Average ROUGE-1: 0.22593926896366953\n",
      "Average ROUGE-2: 0.11340349973459322\n",
      "Average ROUGE-L: 0.21709984611338626\n",
      "Average METEOR Score: 0.319021499731305\n"
     ]
    }
   ],
   "source": [
    "data = pd.read_csv(r\"C:\\Users\\dvb07\\OneDrive\\projects\\gptner.csv\")\n",
    "\n",
    "rouge = Rouge()\n",
    "\n",
    "total_rouge_1 = 0.0\n",
    "total_rouge_2 = 0.0\n",
    "total_rouge_l = 0.0\n",
    "total_bert_score = 0.0\n",
    "total_bleu_score = 0.0\n",
    "total_meteor_score = 0.0\n",
    "num_pairs = len(data)\n",
    "\n",
    "for index, row in data.iterrows():\n",
    "    generated_summary = row['summary']\n",
    "    reference_summary = row['annotation']\n",
    "\n",
    "    _, _, bert_f1 = bert_score([generated_summary], [reference_summary], lang=\"ru\")\n",
    "    total_bert_score += bert_f1.item()\n",
    "    \n",
    "    bleu = sacrebleu.corpus_bleu([generated_summary], [reference_summary])\n",
    "    total_bleu_score += bleu.score\n",
    "    \n",
    "    scores = rouge.get_scores(generated_summary, reference_summary)\n",
    "    total_rouge_1 += scores[0]['rouge-1']['f']\n",
    "    total_rouge_2 += scores[0]['rouge-2']['f']\n",
    "    total_rouge_l += scores[0]['rouge-l']['f']\n",
    "    \n",
    "    generated_tokens = nltk.word_tokenize(generated_summary)\n",
    "    reference_tokens = nltk.word_tokenize(reference_summary)\n",
    "    \n",
    "    meteor = meteor_score([reference_tokens], generated_tokens)\n",
    "    total_meteor_score += meteor\n",
    "    \n",
    "\n",
    "avg_bert_score_gptner = total_bert_score / num_pairs\n",
    "avg_bleu_score_gptner = total_bleu_score / num_pairs\n",
    "avg_rouge_1_gptner = total_rouge_1 / num_pairs\n",
    "avg_rouge_2_gptner = total_rouge_2 / num_pairs\n",
    "avg_rouge_l_gptner = total_rouge_l / num_pairs\n",
    "avg_meteor_score_gptner = total_meteor_score / num_pairs\n",
    "\n",
    "\n",
    "print(f\"Average BERTScore: {avg_bert_score_gptner}\")\n",
    "print(f\"Average BLEU Score: {avg_bleu_score_gptner}\")\n",
    "print(f\"Average ROUGE-1: {avg_rouge_1_gptner}\")\n",
    "print(f\"Average ROUGE-2: {avg_rouge_2_gptner}\")\n",
    "print(f\"Average ROUGE-L: {avg_rouge_l_gptner}\")\n",
    "print(f\"Average METEOR Score: {avg_meteor_score_gptner}\")\n"
   ]
  },
  {
   "cell_type": "markdown",
   "id": "4168e3f3-84d8-4b5d-8686-00d6c06e5d0e",
   "metadata": {},
   "source": [
    "## гпт с нер и стопсловами"
   ]
  },
  {
   "cell_type": "markdown",
   "id": "f5635cf9-27f8-4f60-9eca-2f7230654702",
   "metadata": {
    "jp-MarkdownHeadingCollapsed": true
   },
   "source": [
    "### text"
   ]
  },
  {
   "cell_type": "code",
   "execution_count": 38,
   "id": "cfb52e7f-16eb-4dab-bddb-05cf924ee881",
   "metadata": {},
   "outputs": [],
   "source": [
    "df6 = pd.read_csv(r\"C:\\Users\\dvb07\\OneDrive\\VKR\\texts_med.csv\")"
   ]
  },
  {
   "cell_type": "code",
   "execution_count": 40,
   "id": "da12afac-a761-4db5-a22b-319684ccd4ea",
   "metadata": {},
   "outputs": [],
   "source": [
    "def preprocess_text(article):\n",
    "    stop_words = [\"введение\", \"выводы\", \"данные\", \"заключение\"]\n",
    "    reference_pattern = r'\\[\\d+\\]'\n",
    "\n",
    "    for word in stop_words:\n",
    "        article = article.replace(word, \"\")\n",
    "\n",
    "    article = re.sub(reference_pattern, '', article)\n",
    "\n",
    "    return article\n",
    "    \n",
    "def summarize(article):\n",
    "    \n",
    "    ner_results = pipe(article)\n",
    "    entities = [entity['word'] for entity in ner_results if entity['entity'] != 'O']\n",
    "    entity_string = \" \".join(entities)\n",
    "\n",
    "    max_length = 2048 - len(entity_string)\n",
    "\n",
    "    input_ids = tokenizer_gpt(article, return_tensors='pt', max_length=max_length, truncation=True, padding=True)[\"input_ids\"]\n",
    "\n",
    "    output_ids = model_gpt.generate(input_ids, max_new_tokens=300, repetition_penalty = 7.0, num_return_sequences=5, temperature = 0.7, top_k=50, early_stopping=True)[0]\n",
    "\n",
    "    summary = tokenizer_gpt.decode(output_ids, skip_special_tokens=True)\n",
    "    \n",
    "    return summary"
   ]
  },
  {
   "cell_type": "code",
   "execution_count": 41,
   "id": "90025d8f-56ad-4738-9910-2ce1d970b1ce",
   "metadata": {},
   "outputs": [],
   "source": [
    "df6['preprocessed_text'] = df6['text'].apply(preprocess_text)"
   ]
  },
  {
   "cell_type": "code",
   "execution_count": 42,
   "id": "93b377de-d636-4e47-aefa-0f127a2f5da7",
   "metadata": {},
   "outputs": [
    {
     "data": {
      "application/vnd.jupyter.widget-view+json": {
       "model_id": "28ac00feead3409e9dcd99b570e41471",
       "version_major": 2,
       "version_minor": 0
      },
      "text/plain": [
       "  0%|          | 0/10 [00:00<?, ?it/s]"
      ]
     },
     "metadata": {},
     "output_type": "display_data"
    },
    {
     "name": "stderr",
     "output_type": "stream",
     "text": [
      "C:\\Users\\dvb07\\AppData\\Local\\Programs\\Python\\Python312\\Lib\\site-packages\\transformers\\generation\\configuration_utils.py:492: UserWarning: `do_sample` is set to `False`. However, `temperature` is set to `0.7` -- this flag is only used in sample-based generation modes. You should set `do_sample=True` or unset `temperature`.\n",
      "  warnings.warn(\n"
     ]
    }
   ],
   "source": [
    "df6['summary'] = df6['preprocessed_text'].progress_apply(summarize)"
   ]
  },
  {
   "cell_type": "code",
   "execution_count": 43,
   "id": "f961c3c6-99d1-4f5f-9570-4e6410875292",
   "metadata": {},
   "outputs": [],
   "source": [
    "df6.to_csv('gptnersw.csv')"
   ]
  },
  {
   "cell_type": "markdown",
   "id": "964804e2-7c0c-4060-a6d9-1df490a37ab6",
   "metadata": {},
   "source": [
    "### metrics"
   ]
  },
  {
   "cell_type": "code",
   "execution_count": 68,
   "id": "e6ee04a2-19d0-4cdf-af1d-188498a9f836",
   "metadata": {},
   "outputs": [
    {
     "name": "stdout",
     "output_type": "stream",
     "text": [
      "Average BERTScore: 0.7164736986160278\n",
      "Average BLEU Score: 0.015464787515106873\n",
      "Average ROUGE-1: 0.22867148242030835\n",
      "Average ROUGE-2: 0.11539199994547708\n",
      "Average ROUGE-L: 0.21862052368386847\n",
      "Average METEOR Score: 0.3212456945319137\n"
     ]
    }
   ],
   "source": [
    "data = pd.read_csv(r\"C:\\Users\\dvb07\\OneDrive\\projects\\gptnersw.csv\")\n",
    "\n",
    "rouge = Rouge()\n",
    "\n",
    "total_rouge_1 = 0.0\n",
    "total_rouge_2 = 0.0\n",
    "total_rouge_l = 0.0\n",
    "total_bert_score = 0.0\n",
    "total_bleu_score = 0.0\n",
    "total_meteor_score = 0.0\n",
    "num_pairs = len(data)\n",
    "\n",
    "for index, row in data.iterrows():\n",
    "    generated_summary = row['summary']\n",
    "    reference_summary = row['annotation']\n",
    "\n",
    "    _, _, bert_f1 = bert_score([generated_summary], [reference_summary], lang=\"ru\")\n",
    "    total_bert_score += bert_f1.item()\n",
    "    \n",
    "    bleu = sacrebleu.corpus_bleu([generated_summary], [reference_summary])\n",
    "    total_bleu_score += bleu.score\n",
    "    \n",
    "    scores = rouge.get_scores(generated_summary, reference_summary)\n",
    "    total_rouge_1 += scores[0]['rouge-1']['f']\n",
    "    total_rouge_2 += scores[0]['rouge-2']['f']\n",
    "    total_rouge_l += scores[0]['rouge-l']['f']\n",
    "    \n",
    "    generated_tokens = nltk.word_tokenize(generated_summary)\n",
    "    reference_tokens = nltk.word_tokenize(reference_summary)\n",
    "    \n",
    "    meteor = meteor_score([reference_tokens], generated_tokens)\n",
    "    total_meteor_score += meteor\n",
    "    \n",
    "\n",
    "avg_bert_score_gptnersw = total_bert_score / num_pairs\n",
    "avg_bleu_score_gptnersw = total_bleu_score / num_pairs\n",
    "avg_rouge_1_gptnersw = total_rouge_1 / num_pairs\n",
    "avg_rouge_2_gptnersw = total_rouge_2 / num_pairs\n",
    "avg_rouge_l_gptnersw = total_rouge_l / num_pairs\n",
    "avg_meteor_score_gptnersw = total_meteor_score / num_pairs\n",
    "\n",
    "\n",
    "print(f\"Average BERTScore: {avg_bert_score_gptnersw}\")\n",
    "print(f\"Average BLEU Score: {avg_bleu_score_gptnersw}\")\n",
    "print(f\"Average ROUGE-1: {avg_rouge_1_gptnersw}\")\n",
    "print(f\"Average ROUGE-2: {avg_rouge_2_gptnersw}\")\n",
    "print(f\"Average ROUGE-L: {avg_rouge_l_gptnersw}\")\n",
    "print(f\"Average METEOR Score: {avg_meteor_score_gptnersw}\")\n"
   ]
  },
  {
   "cell_type": "markdown",
   "id": "8944fed9-688c-4f78-b68f-c33e82a37c5e",
   "metadata": {},
   "source": [
    "## т5 без стопслов"
   ]
  },
  {
   "cell_type": "markdown",
   "id": "b4d261c1-198a-48e2-946a-6474ed930935",
   "metadata": {
    "jp-MarkdownHeadingCollapsed": true
   },
   "source": [
    "### text"
   ]
  },
  {
   "cell_type": "code",
   "execution_count": 13,
   "id": "6c7beedc-1695-4e77-b017-1f15116704f2",
   "metadata": {},
   "outputs": [],
   "source": [
    "df3 = pd.read_csv(r\"C:\\Users\\dvb07\\OneDrive\\VKR\\texts_med.csv\")"
   ]
  },
  {
   "cell_type": "code",
   "execution_count": 14,
   "id": "d5f68048-0294-4458-91a6-f5b59f3f1d48",
   "metadata": {},
   "outputs": [],
   "source": [
    "def summarize(article):\n",
    "        \n",
    "    input_ids = tokenizer_sacreemure(article, return_tensors='pt', max_length=2048, truncation=True)[\"input_ids\"]\n",
    "\n",
    "    output_ids = model_sacreemure.generate(input_ids, min_length=800, max_length=1000, repetition_penalty = 2.0, num_return_sequences=1, top_k=50, early_stopping=True)[0]\n",
    "\n",
    "    summary = tokenizer_sacreemure.decode(output_ids, skip_special_tokens=True)\n",
    "    \n",
    "    return summary"
   ]
  },
  {
   "cell_type": "code",
   "execution_count": 15,
   "id": "edc7a523-9719-4c3e-ae2d-1fab1c9c0c57",
   "metadata": {},
   "outputs": [
    {
     "data": {
      "application/vnd.jupyter.widget-view+json": {
       "model_id": "3ca930aad58f4c2eb2757f1fd5e1a998",
       "version_major": 2,
       "version_minor": 0
      },
      "text/plain": [
       "  0%|          | 0/10 [00:00<?, ?it/s]"
      ]
     },
     "metadata": {},
     "output_type": "display_data"
    }
   ],
   "source": [
    "df3['summary'] = df3['text'].progress_apply(summarize)"
   ]
  },
  {
   "cell_type": "code",
   "execution_count": 31,
   "id": "2a8edac8-7daa-4bcd-97e4-d102fb08bc8d",
   "metadata": {},
   "outputs": [],
   "source": [
    "df3.to_csv('t5nosw.csv')"
   ]
  },
  {
   "cell_type": "markdown",
   "id": "a77e1813-46a2-43a8-9c30-7bb2f579fa01",
   "metadata": {},
   "source": [
    "### metrics"
   ]
  },
  {
   "cell_type": "code",
   "execution_count": 70,
   "id": "66a90f9b-e77e-4b3c-a2f3-298617e4b8dd",
   "metadata": {},
   "outputs": [
    {
     "name": "stdout",
     "output_type": "stream",
     "text": [
      "Average BERTScore: 0.7060060262680053\n",
      "Average BLEU Score: 0.009889653694079681\n",
      "Average ROUGE-1: 0.20029529701265494\n",
      "Average ROUGE-2: 0.07030956866604282\n",
      "Average ROUGE-L: 0.18842385992068036\n",
      "Average METEOR Score: 0.217518327812396\n"
     ]
    }
   ],
   "source": [
    "data = pd.read_csv(r\"C:\\Users\\dvb07\\OneDrive\\projects\\t5nosw.csv\")\n",
    "\n",
    "rouge = Rouge()\n",
    "\n",
    "total_rouge_1 = 0.0\n",
    "total_rouge_2 = 0.0\n",
    "total_rouge_l = 0.0\n",
    "total_bert_score = 0.0\n",
    "total_bleu_score = 0.0\n",
    "total_meteor_score = 0.0\n",
    "num_pairs = len(data)\n",
    "\n",
    "for index, row in data.iterrows():\n",
    "    generated_summary = row['summary']\n",
    "    reference_summary = row['annotation']\n",
    "\n",
    "    _, _, bert_f1 = bert_score([generated_summary], [reference_summary], lang=\"ru\")\n",
    "    total_bert_score += bert_f1.item()\n",
    "    \n",
    "    bleu = sacrebleu.corpus_bleu([generated_summary], [reference_summary])\n",
    "    total_bleu_score += bleu.score\n",
    "    \n",
    "    scores = rouge.get_scores(generated_summary, reference_summary)\n",
    "    total_rouge_1 += scores[0]['rouge-1']['f']\n",
    "    total_rouge_2 += scores[0]['rouge-2']['f']\n",
    "    total_rouge_l += scores[0]['rouge-l']['f']\n",
    "    \n",
    "    generated_tokens = nltk.word_tokenize(generated_summary)\n",
    "    reference_tokens = nltk.word_tokenize(reference_summary)\n",
    "    \n",
    "    meteor = meteor_score([reference_tokens], generated_tokens)\n",
    "    total_meteor_score += meteor\n",
    "    \n",
    "\n",
    "avg_bert_score_t5 = total_bert_score / num_pairs\n",
    "avg_bleu_score_t5 = total_bleu_score / num_pairs\n",
    "avg_rouge_1_t5 = total_rouge_1 / num_pairs\n",
    "avg_rouge_2_t5 = total_rouge_2 / num_pairs\n",
    "avg_rouge_l_t5 = total_rouge_l / num_pairs\n",
    "avg_meteor_score_t5 = total_meteor_score / num_pairs\n",
    "\n",
    "\n",
    "print(f\"Average BERTScore: {avg_bert_score_t5}\")\n",
    "print(f\"Average BLEU Score: {avg_bleu_score_t5}\")\n",
    "print(f\"Average ROUGE-1: {avg_rouge_1_t5}\")\n",
    "print(f\"Average ROUGE-2: {avg_rouge_2_t5}\")\n",
    "print(f\"Average ROUGE-L: {avg_rouge_l_t5}\")\n",
    "print(f\"Average METEOR Score: {avg_meteor_score_t5}\")\n"
   ]
  },
  {
   "cell_type": "markdown",
   "id": "e69b2a6e-5c96-4c33-b07d-bd85b99b7fcd",
   "metadata": {},
   "source": [
    "## т5 с стопсловами"
   ]
  },
  {
   "cell_type": "markdown",
   "id": "cd1e8e91-5407-498c-9cb3-21e7e8490d41",
   "metadata": {
    "jp-MarkdownHeadingCollapsed": true
   },
   "source": [
    "### texts"
   ]
  },
  {
   "cell_type": "code",
   "execution_count": 16,
   "id": "ded4e5c7-1081-4cfb-9e07-08f096de8c4c",
   "metadata": {},
   "outputs": [],
   "source": [
    "df4 = pd.read_csv(r\"C:\\Users\\dvb07\\OneDrive\\VKR\\texts_med.csv\")"
   ]
  },
  {
   "cell_type": "code",
   "execution_count": 17,
   "id": "275424cd-5c29-4c3f-962a-f2cc77f243bd",
   "metadata": {},
   "outputs": [],
   "source": [
    "def preprocess_text(article):\n",
    "    stop_words = [\"введение\", \"выводы\", \"данные\", \"заключение\"]\n",
    "    reference_pattern = r'\\[\\d+\\]'\n",
    "\n",
    "    for word in stop_words:\n",
    "        article = article.replace(word, \"\")\n",
    "\n",
    "    article = re.sub(reference_pattern, '', article)\n",
    "\n",
    "    return article\n",
    "\n",
    "def summarize(article):\n",
    "    input_ids = tokenizer_sacreemure(article, return_tensors='pt', max_length=2048, truncation=True)[\"input_ids\"]\n",
    "\n",
    "    output_ids = model_sacreemure.generate(input_ids, min_length=800, max_length=1000, repetition_penalty = 2.0, num_return_sequences=1, top_k=50, early_stopping=True)[0]\n",
    "\n",
    "    summary = tokenizer_sacreemure.decode(output_ids, skip_special_tokens=True)\n",
    "    \n",
    "    return summary\n"
   ]
  },
  {
   "cell_type": "code",
   "execution_count": 18,
   "id": "554d4905-9a4a-4a5f-854c-78d55b7a98b9",
   "metadata": {},
   "outputs": [
    {
     "data": {
      "application/vnd.jupyter.widget-view+json": {
       "model_id": "b4af7bffb0184534badd9d133ea110c7",
       "version_major": 2,
       "version_minor": 0
      },
      "text/plain": [
       "  0%|          | 0/10 [00:00<?, ?it/s]"
      ]
     },
     "metadata": {},
     "output_type": "display_data"
    }
   ],
   "source": [
    "df4['preprocessed_text'] = df4['text'].apply(preprocess_text)\n",
    "\n",
    "df4['summary'] = df4['preprocessed_text'].progress_apply(summarize)"
   ]
  },
  {
   "cell_type": "code",
   "execution_count": 30,
   "id": "cfef755d-8406-4a7d-ad0c-9df44738e50a",
   "metadata": {},
   "outputs": [],
   "source": [
    "df4.to_csv('t5stopwords.csv')"
   ]
  },
  {
   "cell_type": "markdown",
   "id": "63a9de5b-5d4b-4222-88da-5a3b079ccbc0",
   "metadata": {},
   "source": [
    "### metrics"
   ]
  },
  {
   "cell_type": "code",
   "execution_count": 71,
   "id": "bea1feeb-000b-49ee-aa85-99d73c7ab740",
   "metadata": {},
   "outputs": [
    {
     "name": "stdout",
     "output_type": "stream",
     "text": [
      "Average BERTScore: 0.7220237076282501\n",
      "Average BLEU Score: 0.017615891563731816\n",
      "Average ROUGE-1: 0.20292334588147823\n",
      "Average ROUGE-2: 0.06253511199006072\n",
      "Average ROUGE-L: 0.191636253109569\n",
      "Average METEOR Score: 0.22480401974001984\n"
     ]
    }
   ],
   "source": [
    "data = pd.read_csv(r\"C:\\Users\\dvb07\\OneDrive\\projects\\t5stopwords.csv\")\n",
    "\n",
    "rouge = Rouge()\n",
    "\n",
    "total_rouge_1 = 0.0\n",
    "total_rouge_2 = 0.0\n",
    "total_rouge_l = 0.0\n",
    "total_bert_score = 0.0\n",
    "total_bleu_score = 0.0\n",
    "total_meteor_score = 0.0\n",
    "num_pairs = len(data)\n",
    "\n",
    "for index, row in data.iterrows():\n",
    "    generated_summary = row['summary']\n",
    "    reference_summary = row['annotation']\n",
    "\n",
    "    _, _, bert_f1 = bert_score([generated_summary], [reference_summary], lang=\"ru\")\n",
    "    total_bert_score += bert_f1.item()\n",
    "    \n",
    "    bleu = sacrebleu.corpus_bleu([generated_summary], [reference_summary])\n",
    "    total_bleu_score += bleu.score\n",
    "    \n",
    "    scores = rouge.get_scores(generated_summary, reference_summary)\n",
    "    total_rouge_1 += scores[0]['rouge-1']['f']\n",
    "    total_rouge_2 += scores[0]['rouge-2']['f']\n",
    "    total_rouge_l += scores[0]['rouge-l']['f']\n",
    "    \n",
    "    generated_tokens = nltk.word_tokenize(generated_summary)\n",
    "    reference_tokens = nltk.word_tokenize(reference_summary)\n",
    "    \n",
    "    meteor = meteor_score([reference_tokens], generated_tokens)\n",
    "    total_meteor_score += meteor\n",
    "    \n",
    "\n",
    "avg_bert_score_t5sw = total_bert_score / num_pairs\n",
    "avg_bleu_score_t5sw = total_bleu_score / num_pairs\n",
    "avg_rouge_1_t5sw = total_rouge_1 / num_pairs\n",
    "avg_rouge_2_t5sw = total_rouge_2 / num_pairs\n",
    "avg_rouge_l_t5sw = total_rouge_l / num_pairs\n",
    "avg_meteor_score_t5sw = total_meteor_score / num_pairs\n",
    "\n",
    "\n",
    "print(f\"Average BERTScore: {avg_bert_score_t5sw}\")\n",
    "print(f\"Average BLEU Score: {avg_bleu_score_t5sw}\")\n",
    "print(f\"Average ROUGE-1: {avg_rouge_1_t5sw}\")\n",
    "print(f\"Average ROUGE-2: {avg_rouge_2_t5sw}\")\n",
    "print(f\"Average ROUGE-L: {avg_rouge_l_t5sw}\")\n",
    "print(f\"Average METEOR Score: {avg_meteor_score_t5sw}\")\n"
   ]
  },
  {
   "cell_type": "markdown",
   "id": "9fe97cce-aad1-494a-b453-c170b4cfe2fe",
   "metadata": {},
   "source": [
    "## т5 с нер"
   ]
  },
  {
   "cell_type": "markdown",
   "id": "c8d1c3b7-2bbd-4339-b0c5-366b214f6276",
   "metadata": {
    "jp-MarkdownHeadingCollapsed": true
   },
   "source": [
    "### texts"
   ]
  },
  {
   "cell_type": "code",
   "execution_count": 24,
   "id": "13037f6b-5b10-4ab6-80ee-90a42359e584",
   "metadata": {},
   "outputs": [],
   "source": [
    "df5 = pd.read_csv(r\"C:\\Users\\dvb07\\OneDrive\\VKR\\texts_med.csv\")"
   ]
  },
  {
   "cell_type": "code",
   "execution_count": 27,
   "id": "8460c474-3eb2-4631-a985-619dc73d51ba",
   "metadata": {},
   "outputs": [],
   "source": [
    "def process_row(article):\n",
    "    \n",
    "    ner_results = pipe(article)\n",
    "    entities = [entity['word'] for entity in ner_results if entity['entity'] != 'O']\n",
    "    entity_string = \" \".join(entities)\n",
    "\n",
    "    max_length = 2048 - len(entity_string)\n",
    "\n",
    "    input_ids = tokenizer_sacreemure(article, return_tensors='pt', max_length=max_length, truncation=True)[\"input_ids\"]\n",
    "\n",
    "    output_ids = model_sacreemure.generate(input_ids, min_length=800, max_length=1000, repetition_penalty = 2.0, num_return_sequences=1, top_k=50, early_stopping=True)[0]\n",
    "\n",
    "    summary = tokenizer_sacreemure.decode(output_ids, skip_special_tokens=True)\n",
    "    \n",
    "    return summary"
   ]
  },
  {
   "cell_type": "code",
   "execution_count": 28,
   "id": "5207c5dd-36ec-47b3-865a-50c03ccb0b61",
   "metadata": {},
   "outputs": [
    {
     "data": {
      "application/vnd.jupyter.widget-view+json": {
       "model_id": "9213588fa264422688fbc731794a8deb",
       "version_major": 2,
       "version_minor": 0
      },
      "text/plain": [
       "  0%|          | 0/10 [00:00<?, ?it/s]"
      ]
     },
     "metadata": {},
     "output_type": "display_data"
    },
    {
     "name": "stderr",
     "output_type": "stream",
     "text": [
      "Asking to truncate to max_length but no maximum length is provided and the model has no predefined maximum length. Default to no truncation.\n"
     ]
    }
   ],
   "source": [
    "df5['summary'] = df5['text'].progress_apply(process_row)"
   ]
  },
  {
   "cell_type": "code",
   "execution_count": 29,
   "id": "678fbe44-6117-4141-810b-1fa5e81879a8",
   "metadata": {},
   "outputs": [],
   "source": [
    "df5.to_csv('t5ner.csv')"
   ]
  },
  {
   "cell_type": "markdown",
   "id": "a7133904-01cf-439a-a658-41cb44cda907",
   "metadata": {},
   "source": [
    "### metrics"
   ]
  },
  {
   "cell_type": "code",
   "execution_count": 73,
   "id": "476d4813-b79d-4d36-aedf-a6f7f3bc14e1",
   "metadata": {},
   "outputs": [
    {
     "name": "stdout",
     "output_type": "stream",
     "text": [
      "Average BERTScore: 0.6895514249801635\n",
      "Average BLEU Score: 0.0\n",
      "Average ROUGE-1: 0.19499545519319392\n",
      "Average ROUGE-2: 0.07349957703658046\n",
      "Average ROUGE-L: 0.1864979904223519\n",
      "Average METEOR Score: 0.2166501187776962\n"
     ]
    }
   ],
   "source": [
    "data = pd.read_csv(r\"C:\\Users\\dvb07\\OneDrive\\projects\\t5ner.csv\")\n",
    "\n",
    "rouge = Rouge()\n",
    "\n",
    "total_rouge_1 = 0.0\n",
    "total_rouge_2 = 0.0\n",
    "total_rouge_l = 0.0\n",
    "total_bert_score = 0.0\n",
    "total_bleu_score = 0.0\n",
    "total_meteor_score = 0.0\n",
    "num_pairs = len(data)\n",
    "\n",
    "for index, row in data.iterrows():\n",
    "    generated_summary = row['summary']\n",
    "    reference_summary = row['annotation']\n",
    "\n",
    "    _, _, bert_f1 = bert_score([generated_summary], [reference_summary], lang=\"ru\")\n",
    "    total_bert_score += bert_f1.item()\n",
    "    \n",
    "    bleu = sacrebleu.corpus_bleu([generated_summary], [reference_summary])\n",
    "    total_bleu_score += bleu.score\n",
    "    \n",
    "    scores = rouge.get_scores(generated_summary, reference_summary)\n",
    "    total_rouge_1 += scores[0]['rouge-1']['f']\n",
    "    total_rouge_2 += scores[0]['rouge-2']['f']\n",
    "    total_rouge_l += scores[0]['rouge-l']['f']\n",
    "    \n",
    "    generated_tokens = nltk.word_tokenize(generated_summary)\n",
    "    reference_tokens = nltk.word_tokenize(reference_summary)\n",
    "    \n",
    "    meteor = meteor_score([reference_tokens], generated_tokens)\n",
    "    total_meteor_score += meteor\n",
    "    \n",
    "\n",
    "avg_bert_score_t5ner = total_bert_score / num_pairs\n",
    "avg_bleu_score_t5ner = total_bleu_score / num_pairs\n",
    "avg_rouge_1_t5ner = total_rouge_1 / num_pairs\n",
    "avg_rouge_2_t5ner = total_rouge_2 / num_pairs\n",
    "avg_rouge_l_t5ner = total_rouge_l / num_pairs\n",
    "avg_meteor_score_t5ner = total_meteor_score / num_pairs\n",
    "\n",
    "\n",
    "print(f\"Average BERTScore: {avg_bert_score_t5ner}\")\n",
    "print(f\"Average BLEU Score: {avg_bleu_score_t5ner}\")\n",
    "print(f\"Average ROUGE-1: {avg_rouge_1_t5ner}\")\n",
    "print(f\"Average ROUGE-2: {avg_rouge_2_t5ner}\")\n",
    "print(f\"Average ROUGE-L: {avg_rouge_l_t5ner}\")\n",
    "print(f\"Average METEOR Score: {avg_meteor_score_t5ner}\")\n"
   ]
  },
  {
   "cell_type": "markdown",
   "id": "0c72711b-dd2a-42f8-a044-dd0f57574493",
   "metadata": {},
   "source": [
    "## т5 нер и стопслова"
   ]
  },
  {
   "cell_type": "markdown",
   "id": "9712e1f0-4ee4-4d2a-a9ef-655f64b69ac7",
   "metadata": {
    "jp-MarkdownHeadingCollapsed": true
   },
   "source": [
    "### texts"
   ]
  },
  {
   "cell_type": "code",
   "execution_count": 39,
   "id": "4ace85a7-5c35-429b-a317-c1757d90ab16",
   "metadata": {},
   "outputs": [],
   "source": [
    "df7 = pd.read_csv(r\"C:\\Users\\dvb07\\OneDrive\\VKR\\texts_med.csv\")"
   ]
  },
  {
   "cell_type": "code",
   "execution_count": 44,
   "id": "75b08472-d6c3-4f36-841c-628fee15d715",
   "metadata": {},
   "outputs": [],
   "source": [
    "def preprocess_text(article):\n",
    "    stop_words = [\"введение\", \"выводы\", \"данные\", \"заключение\"]\n",
    "    reference_pattern = r'\\[\\d+\\]'\n",
    "\n",
    "    for word in stop_words:\n",
    "        article = article.replace(word, \"\")\n",
    "\n",
    "    article = re.sub(reference_pattern, '', article)\n",
    "\n",
    "    return article\n",
    "    \n",
    "def summarize(article):\n",
    "    \n",
    "    ner_results = pipe(article)\n",
    "    entities = [entity['word'] for entity in ner_results if entity['entity'] != 'O']\n",
    "    entity_string = \" \".join(entities)\n",
    "\n",
    "    max_length = 2048 - len(entity_string)\n",
    "\n",
    "    input_ids = tokenizer_sacreemure(article, return_tensors='pt', max_length=max_length, truncation=True)[\"input_ids\"]\n",
    "\n",
    "    output_ids = model_sacreemure.generate(input_ids, min_length=800, max_length=1000, repetition_penalty = 2.0, num_return_sequences=1, top_k=50, early_stopping=True)[0]\n",
    "\n",
    "    summary = tokenizer_sacreemure.decode(output_ids, skip_special_tokens=True)\n",
    "    \n",
    "    return summary"
   ]
  },
  {
   "cell_type": "code",
   "execution_count": 45,
   "id": "d8c230c1-4308-47b4-9763-131cc40dc789",
   "metadata": {},
   "outputs": [],
   "source": [
    "df7['preprocessed_text'] = df7['text'].apply(preprocess_text)"
   ]
  },
  {
   "cell_type": "code",
   "execution_count": 46,
   "id": "6d5f3560-4bc1-407a-8c02-79182dcb8821",
   "metadata": {},
   "outputs": [
    {
     "data": {
      "application/vnd.jupyter.widget-view+json": {
       "model_id": "725a1fb3f94c498b8fd78f5c76089f4e",
       "version_major": 2,
       "version_minor": 0
      },
      "text/plain": [
       "  0%|          | 0/10 [00:00<?, ?it/s]"
      ]
     },
     "metadata": {},
     "output_type": "display_data"
    }
   ],
   "source": [
    "df7['summary'] = df7['preprocessed_text'].progress_apply(summarize)"
   ]
  },
  {
   "cell_type": "code",
   "execution_count": 47,
   "id": "83e02bc5-9df7-44e2-818f-4b9d2b1cd220",
   "metadata": {},
   "outputs": [],
   "source": [
    "df7.to_csv('t5nersw.csv')"
   ]
  },
  {
   "cell_type": "markdown",
   "id": "088c1ed2-d9a9-40fd-9542-524fd12100cc",
   "metadata": {},
   "source": [
    "### metrics"
   ]
  },
  {
   "cell_type": "code",
   "execution_count": 74,
   "id": "1864ef90-8053-45e9-a43c-91665b99801d",
   "metadata": {},
   "outputs": [
    {
     "name": "stdout",
     "output_type": "stream",
     "text": [
      "Average BERTScore: 0.6828571200370789\n",
      "Average BLEU Score: 0.0\n",
      "Average ROUGE-1: 0.18828068762508038\n",
      "Average ROUGE-2: 0.05849259067912451\n",
      "Average ROUGE-L: 0.18033223299668635\n",
      "Average METEOR Score: 0.18972420766761866\n"
     ]
    }
   ],
   "source": [
    "data = pd.read_csv(r\"C:\\Users\\dvb07\\OneDrive\\projects\\t5nersw.csv\")\n",
    "\n",
    "rouge = Rouge()\n",
    "\n",
    "total_rouge_1 = 0.0\n",
    "total_rouge_2 = 0.0\n",
    "total_rouge_l = 0.0\n",
    "total_bert_score = 0.0\n",
    "total_bleu_score = 0.0\n",
    "total_meteor_score = 0.0\n",
    "num_pairs = len(data)\n",
    "\n",
    "for index, row in data.iterrows():\n",
    "    generated_summary = row['summary']\n",
    "    reference_summary = row['annotation']\n",
    "\n",
    "    _, _, bert_f1 = bert_score([generated_summary], [reference_summary], lang=\"ru\")\n",
    "    total_bert_score += bert_f1.item()\n",
    "    \n",
    "    bleu = sacrebleu.corpus_bleu([generated_summary], [reference_summary])\n",
    "    total_bleu_score += bleu.score\n",
    "    \n",
    "    scores = rouge.get_scores(generated_summary, reference_summary)\n",
    "    total_rouge_1 += scores[0]['rouge-1']['f']\n",
    "    total_rouge_2 += scores[0]['rouge-2']['f']\n",
    "    total_rouge_l += scores[0]['rouge-l']['f']\n",
    "    \n",
    "    generated_tokens = nltk.word_tokenize(generated_summary)\n",
    "    reference_tokens = nltk.word_tokenize(reference_summary)\n",
    "    \n",
    "    meteor = meteor_score([reference_tokens], generated_tokens)\n",
    "    total_meteor_score += meteor\n",
    "    \n",
    "\n",
    "avg_bert_score_t5nersw = total_bert_score / num_pairs\n",
    "avg_bleu_score_t5nersw = total_bleu_score / num_pairs\n",
    "avg_rouge_1_t5nersw = total_rouge_1 / num_pairs\n",
    "avg_rouge_2_t5nersw = total_rouge_2 / num_pairs\n",
    "avg_rouge_l_t5nersw = total_rouge_l / num_pairs\n",
    "avg_meteor_score_t5nersw = total_meteor_score / num_pairs\n",
    "\n",
    "\n",
    "print(f\"Average BERTScore: {avg_bert_score_t5nersw}\")\n",
    "print(f\"Average BLEU Score: {avg_bleu_score_t5nersw}\")\n",
    "print(f\"Average ROUGE-1: {avg_rouge_1_t5nersw}\")\n",
    "print(f\"Average ROUGE-2: {avg_rouge_2_t5nersw}\")\n",
    "print(f\"Average ROUGE-L: {avg_rouge_l_t5nersw}\")\n",
    "print(f\"Average METEOR Score: {avg_meteor_score_t5nersw}\")\n"
   ]
  },
  {
   "cell_type": "markdown",
   "id": "f675e38a-77c4-4fb8-bae0-22afde43d6ae",
   "metadata": {},
   "source": [
    "## Comparison"
   ]
  },
  {
   "cell_type": "markdown",
   "id": "e1dab7fa-d8a5-4744-82c2-920442b6a996",
   "metadata": {},
   "source": [
    "### gpt"
   ]
  },
  {
   "cell_type": "code",
   "execution_count": 84,
   "id": "e46bfe95-864c-4f2c-b46f-286ece70ca54",
   "metadata": {},
   "outputs": [
    {
     "data": {
      "image/png": "[encoded data removed]",
      "text/plain": [
       "<Figure size 1200x600 with 1 Axes>"
      ]
     },
     "metadata": {},
     "output_type": "display_data"
    }
   ],
   "source": [
    "models = ['GPT', 'GPT with SW', 'GPT with NER', 'GPT with SW and NER']\n",
    "metrics = ['Rouge-1', 'Rouge-2', 'Rouge-L', 'BERT Score', 'BLEU']\n",
    "values = np.array([\n",
    "    [0.194, 0.076, 0.184, 0.715, 0.029],\n",
    "    [0.202, 0.083, 0.192, 0.716, 0.033],\n",
    "    [0.225, 0.113, 0.217, 0.715, 0.015],\n",
    "    [0.228, 0.115, 0.218, 0.716, 0.015]\n",
    "])\n",
    "\n",
    "# Plotting\n",
    "num_models = len(models)\n",
    "num_metrics = len(metrics)\n",
    "bar_width = 0.2\n",
    "index = np.arange(num_models)\n",
    "\n",
    "fig, ax = plt.subplots(figsize=(12, 6))\n",
    "\n",
    "for i in range(num_metrics):\n",
    "    ax.bar(index + i * bar_width, values[:, i], bar_width, label=metrics[i])\n",
    "\n",
    "ax.set_xlabel('Models')\n",
    "ax.set_ylabel('Metrics')\n",
    "ax.set_title('Comparison of Summarization Metrics among Models')\n",
    "ax.set_xticks(index + bar_width * num_metrics / 2)\n",
    "ax.set_xticklabels(models)\n",
    "ax.legend()\n",
    "\n",
    "plt.tight_layout()\n",
    "plt.show()"
   ]
  },
  {
   "cell_type": "code",
   "execution_count": 85,
   "id": "7ff4aa70-088f-488d-9596-e084abbf00e6",
   "metadata": {},
   "outputs": [
    {
     "data": {
      "text/plain": [
       "<Figure size 640x480 with 0 Axes>"
      ]
     },
     "metadata": {},
     "output_type": "display_data"
    }
   ],
   "source": [
    "plt.savefig('gpt_summ_metrics_comp.png', dpi=300)"
   ]
  },
  {
   "cell_type": "markdown",
   "id": "d7b476d2-0825-4e64-aecc-570572dbb9ea",
   "metadata": {},
   "source": [
    "### t5"
   ]
  },
  {
   "cell_type": "code",
   "execution_count": 82,
   "id": "74c4a99c-e6aa-4092-bffc-3229b378de5a",
   "metadata": {},
   "outputs": [
    {
     "data": {
      "image/png": "[encoded data removed]",
      "text/plain": [
       "<Figure size 1200x600 with 1 Axes>"
      ]
     },
     "metadata": {},
     "output_type": "display_data"
    }
   ],
   "source": [
    "models = ['T5', 'T5 with SW', 'T5 with NER', 'T5 with SW and NER']\n",
    "metrics = ['Rouge-1', 'Rouge-2', 'Rouge-L', 'BERT Score', 'BLEU']\n",
    "values = np.array([\n",
    "    [0.2, 0.07, 0.188, 0.7, 0.009],\n",
    "    [0.202, 0.0625, 0.191, 0.722, 0.017],\n",
    "    [0.194, 0.073, 0.186, 0.689, 0.0],\n",
    "    [0.188, 0.058, 0.18, 0.682, 0.0]\n",
    "])\n",
    "\n",
    "num_models = len(models)\n",
    "num_metrics = len(metrics)\n",
    "bar_width = 0.2\n",
    "index = np.arange(num_models)\n",
    "\n",
    "fig, ax = plt.subplots(figsize=(12, 6))\n",
    "\n",
    "for i in range(num_metrics):\n",
    "    ax.bar(index + i * bar_width, values[:, i], bar_width, label=metrics[i])\n",
    "\n",
    "ax.set_xlabel('Models')\n",
    "ax.set_ylabel('Metrics')\n",
    "ax.set_title('Comparison of Summarization Metrics among Models')\n",
    "ax.set_xticks(index + bar_width * num_metrics / 2)\n",
    "ax.set_xticklabels(models)\n",
    "ax.legend()\n",
    "\n",
    "plt.tight_layout()\n",
    "plt.show()"
   ]
  },
  {
   "cell_type": "code",
   "execution_count": 83,
   "id": "2cebb6c6-44ab-47d2-91e8-285b7240d5b1",
   "metadata": {},
   "outputs": [
    {
     "data": {
      "text/plain": [
       "<Figure size 640x480 with 0 Axes>"
      ]
     },
     "metadata": {},
     "output_type": "display_data"
    }
   ],
   "source": [
    "plt.savefig('t5_summ_metrics_comp.png', dpi=300)"
   ]
  },
  {
   "cell_type": "code",
   "execution_count": null,
   "id": "c7c35a9c-06d9-47fe-94e7-14513d540827",
   "metadata": {},
   "outputs": [],
   "source": []
  }
 ],
 "metadata": {
  "kernelspec": {
   "display_name": "Python 3 (ipykernel)",
   "language": "python",
   "name": "python3"
  },
  "language_info": {
   "codemirror_mode": {
    "name": "ipython",
    "version": 3
   },
   "file_extension": ".py",
   "mimetype": "text/x-python",
   "name": "python",
   "nbconvert_exporter": "python",
   "pygments_lexer": "ipython3",
   "version": "3.12.2"
  }
 },
 "nbformat": 4,
 "nbformat_minor": 5
}
