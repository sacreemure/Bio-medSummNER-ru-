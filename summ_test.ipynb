{
  "nbformat": 4,
  "nbformat_minor": 0,
  "metadata": {
    "colab": {
      "provenance": [],
      "gpuType": "T4",
      "collapsed_sections": [
        "xxLhbnEE1uWB"
      ]
    },
    "kernelspec": {
      "name": "python3",
      "display_name": "Python 3"
    },
    "language_info": {
      "name": "python"
    },
    "widgets": {
      "application/vnd.jupyter.widget-state+json": {
        "6cfa72fd095d49a2a110b14b92ca872a": {
          "model_module": "@jupyter-widgets/controls",
          "model_name": "HBoxModel",
          "model_module_version": "1.5.0",
          "state": {
            "_dom_classes": [],
            "_model_module": "@jupyter-widgets/controls",
            "_model_module_version": "1.5.0",
            "_model_name": "HBoxModel",
            "_view_count": null,
            "_view_module": "@jupyter-widgets/controls",
            "_view_module_version": "1.5.0",
            "_view_name": "HBoxView",
            "box_style": "",
            "children": [
              "IPY_MODEL_beb243e776a14a968ef211d20257fb8e",
              "IPY_MODEL_4a2821fb58854cf0a5530689d43fdfb0",
              "IPY_MODEL_2e1208ef034b4c2890ff83cf19623df0"
            ],
            "layout": "IPY_MODEL_dab4a33f14d74fbe90562609c1fbdba7"
          }
        },
        "beb243e776a14a968ef211d20257fb8e": {
          "model_module": "@jupyter-widgets/controls",
          "model_name": "HTMLModel",
          "model_module_version": "1.5.0",
          "state": {
            "_dom_classes": [],
            "_model_module": "@jupyter-widgets/controls",
            "_model_module_version": "1.5.0",
            "_model_name": "HTMLModel",
            "_view_count": null,
            "_view_module": "@jupyter-widgets/controls",
            "_view_module_version": "1.5.0",
            "_view_name": "HTMLView",
            "description": "",
            "description_tooltip": null,
            "layout": "IPY_MODEL_cb26e1b63578422b8bfed43a0caca847",
            "placeholder": "​",
            "style": "IPY_MODEL_0b90c40a12dd4f7c8181dc303893f162",
            "value": "model.safetensors: 100%"
          }
        },
        "4a2821fb58854cf0a5530689d43fdfb0": {
          "model_module": "@jupyter-widgets/controls",
          "model_name": "FloatProgressModel",
          "model_module_version": "1.5.0",
          "state": {
            "_dom_classes": [],
            "_model_module": "@jupyter-widgets/controls",
            "_model_module_version": "1.5.0",
            "_model_name": "FloatProgressModel",
            "_view_count": null,
            "_view_module": "@jupyter-widgets/controls",
            "_view_module_version": "1.5.0",
            "_view_name": "ProgressView",
            "bar_style": "success",
            "description": "",
            "description_tooltip": null,
            "layout": "IPY_MODEL_59a7e1402d7c413287b6c63df5ddc8d4",
            "max": 3468579524,
            "min": 0,
            "orientation": "horizontal",
            "style": "IPY_MODEL_d72e63cf0d7148f4b07da303ccd5ff5d",
            "value": 3468579524
          }
        },
        "2e1208ef034b4c2890ff83cf19623df0": {
          "model_module": "@jupyter-widgets/controls",
          "model_name": "HTMLModel",
          "model_module_version": "1.5.0",
          "state": {
            "_dom_classes": [],
            "_model_module": "@jupyter-widgets/controls",
            "_model_module_version": "1.5.0",
            "_model_name": "HTMLModel",
            "_view_count": null,
            "_view_module": "@jupyter-widgets/controls",
            "_view_module_version": "1.5.0",
            "_view_name": "HTMLView",
            "description": "",
            "description_tooltip": null,
            "layout": "IPY_MODEL_4e5ecb6099cd40499c1265a10b0d020d",
            "placeholder": "​",
            "style": "IPY_MODEL_b706d22d35f24c36bec37c3993201008",
            "value": " 3.47G/3.47G [00:38&lt;00:00, 74.5MB/s]"
          }
        },
        "dab4a33f14d74fbe90562609c1fbdba7": {
          "model_module": "@jupyter-widgets/base",
          "model_name": "LayoutModel",
          "model_module_version": "1.2.0",
          "state": {
            "_model_module": "@jupyter-widgets/base",
            "_model_module_version": "1.2.0",
            "_model_name": "LayoutModel",
            "_view_count": null,
            "_view_module": "@jupyter-widgets/base",
            "_view_module_version": "1.2.0",
            "_view_name": "LayoutView",
            "align_content": null,
            "align_items": null,
            "align_self": null,
            "border": null,
            "bottom": null,
            "display": null,
            "flex": null,
            "flex_flow": null,
            "grid_area": null,
            "grid_auto_columns": null,
            "grid_auto_flow": null,
            "grid_auto_rows": null,
            "grid_column": null,
            "grid_gap": null,
            "grid_row": null,
            "grid_template_areas": null,
            "grid_template_columns": null,
            "grid_template_rows": null,
            "height": null,
            "justify_content": null,
            "justify_items": null,
            "left": null,
            "margin": null,
            "max_height": null,
            "max_width": null,
            "min_height": null,
            "min_width": null,
            "object_fit": null,
            "object_position": null,
            "order": null,
            "overflow": null,
            "overflow_x": null,
            "overflow_y": null,
            "padding": null,
            "right": null,
            "top": null,
            "visibility": null,
            "width": null
          }
        },
        "cb26e1b63578422b8bfed43a0caca847": {
          "model_module": "@jupyter-widgets/base",
          "model_name": "LayoutModel",
          "model_module_version": "1.2.0",
          "state": {
            "_model_module": "@jupyter-widgets/base",
            "_model_module_version": "1.2.0",
            "_model_name": "LayoutModel",
            "_view_count": null,
            "_view_module": "@jupyter-widgets/base",
            "_view_module_version": "1.2.0",
            "_view_name": "LayoutView",
            "align_content": null,
            "align_items": null,
            "align_self": null,
            "border": null,
            "bottom": null,
            "display": null,
            "flex": null,
            "flex_flow": null,
            "grid_area": null,
            "grid_auto_columns": null,
            "grid_auto_flow": null,
            "grid_auto_rows": null,
            "grid_column": null,
            "grid_gap": null,
            "grid_row": null,
            "grid_template_areas": null,
            "grid_template_columns": null,
            "grid_template_rows": null,
            "height": null,
            "justify_content": null,
            "justify_items": null,
            "left": null,
            "margin": null,
            "max_height": null,
            "max_width": null,
            "min_height": null,
            "min_width": null,
            "object_fit": null,
            "object_position": null,
            "order": null,
            "overflow": null,
            "overflow_x": null,
            "overflow_y": null,
            "padding": null,
            "right": null,
            "top": null,
            "visibility": null,
            "width": null
          }
        },
        "0b90c40a12dd4f7c8181dc303893f162": {
          "model_module": "@jupyter-widgets/controls",
          "model_name": "DescriptionStyleModel",
          "model_module_version": "1.5.0",
          "state": {
            "_model_module": "@jupyter-widgets/controls",
            "_model_module_version": "1.5.0",
            "_model_name": "DescriptionStyleModel",
            "_view_count": null,
            "_view_module": "@jupyter-widgets/base",
            "_view_module_version": "1.2.0",
            "_view_name": "StyleView",
            "description_width": ""
          }
        },
        "59a7e1402d7c413287b6c63df5ddc8d4": {
          "model_module": "@jupyter-widgets/base",
          "model_name": "LayoutModel",
          "model_module_version": "1.2.0",
          "state": {
            "_model_module": "@jupyter-widgets/base",
            "_model_module_version": "1.2.0",
            "_model_name": "LayoutModel",
            "_view_count": null,
            "_view_module": "@jupyter-widgets/base",
            "_view_module_version": "1.2.0",
            "_view_name": "LayoutView",
            "align_content": null,
            "align_items": null,
            "align_self": null,
            "border": null,
            "bottom": null,
            "display": null,
            "flex": null,
            "flex_flow": null,
            "grid_area": null,
            "grid_auto_columns": null,
            "grid_auto_flow": null,
            "grid_auto_rows": null,
            "grid_column": null,
            "grid_gap": null,
            "grid_row": null,
            "grid_template_areas": null,
            "grid_template_columns": null,
            "grid_template_rows": null,
            "height": null,
            "justify_content": null,
            "justify_items": null,
            "left": null,
            "margin": null,
            "max_height": null,
            "max_width": null,
            "min_height": null,
            "min_width": null,
            "object_fit": null,
            "object_position": null,
            "order": null,
            "overflow": null,
            "overflow_x": null,
            "overflow_y": null,
            "padding": null,
            "right": null,
            "top": null,
            "visibility": null,
            "width": null
          }
        },
        "d72e63cf0d7148f4b07da303ccd5ff5d": {
          "model_module": "@jupyter-widgets/controls",
          "model_name": "ProgressStyleModel",
          "model_module_version": "1.5.0",
          "state": {
            "_model_module": "@jupyter-widgets/controls",
            "_model_module_version": "1.5.0",
            "_model_name": "ProgressStyleModel",
            "_view_count": null,
            "_view_module": "@jupyter-widgets/base",
            "_view_module_version": "1.2.0",
            "_view_name": "StyleView",
            "bar_color": null,
            "description_width": ""
          }
        },
        "4e5ecb6099cd40499c1265a10b0d020d": {
          "model_module": "@jupyter-widgets/base",
          "model_name": "LayoutModel",
          "model_module_version": "1.2.0",
          "state": {
            "_model_module": "@jupyter-widgets/base",
            "_model_module_version": "1.2.0",
            "_model_name": "LayoutModel",
            "_view_count": null,
            "_view_module": "@jupyter-widgets/base",
            "_view_module_version": "1.2.0",
            "_view_name": "LayoutView",
            "align_content": null,
            "align_items": null,
            "align_self": null,
            "border": null,
            "bottom": null,
            "display": null,
            "flex": null,
            "flex_flow": null,
            "grid_area": null,
            "grid_auto_columns": null,
            "grid_auto_flow": null,
            "grid_auto_rows": null,
            "grid_column": null,
            "grid_gap": null,
            "grid_row": null,
            "grid_template_areas": null,
            "grid_template_columns": null,
            "grid_template_rows": null,
            "height": null,
            "justify_content": null,
            "justify_items": null,
            "left": null,
            "margin": null,
            "max_height": null,
            "max_width": null,
            "min_height": null,
            "min_width": null,
            "object_fit": null,
            "object_position": null,
            "order": null,
            "overflow": null,
            "overflow_x": null,
            "overflow_y": null,
            "padding": null,
            "right": null,
            "top": null,
            "visibility": null,
            "width": null
          }
        },
        "b706d22d35f24c36bec37c3993201008": {
          "model_module": "@jupyter-widgets/controls",
          "model_name": "DescriptionStyleModel",
          "model_module_version": "1.5.0",
          "state": {
            "_model_module": "@jupyter-widgets/controls",
            "_model_module_version": "1.5.0",
            "_model_name": "DescriptionStyleModel",
            "_view_count": null,
            "_view_module": "@jupyter-widgets/base",
            "_view_module_version": "1.2.0",
            "_view_name": "StyleView",
            "description_width": ""
          }
        }
      }
    },
    "accelerator": "GPU"
  },
  "cells": [
    {
      "cell_type": "code",
      "execution_count": null,
      "metadata": {
        "id": "B2kbmev2zuoS"
      },
      "outputs": [],
      "source": [
        "!pip install transformers"
      ]
    },
    {
      "cell_type": "code",
      "source": [
        "from transformers import AutoModelForSeq2SeqLM, T5TokenizerFast, T5ForConditionalGeneration"
      ],
      "metadata": {
        "id": "j4yXfa1N0Bmw"
      },
      "execution_count": null,
      "outputs": []
    },
    {
      "cell_type": "markdown",
      "source": [
        "## T5 UrukHan"
      ],
      "metadata": {
        "id": "xxLhbnEE1uWB"
      }
    },
    {
      "cell_type": "code",
      "source": [
        "model_name = 'UrukHan/t5-russian-spell'"
      ],
      "metadata": {
        "id": "u6QYYu2o0G5Z"
      },
      "execution_count": null,
      "outputs": []
    },
    {
      "cell_type": "code",
      "source": [
        "tokenizer = T5TokenizerFast.from_pretrained(model_name)\n",
        "model = AutoModelForSeq2SeqLM.from_pretrained(model_name)"
      ],
      "metadata": {
        "id": "q8xT94dt0OLC"
      },
      "execution_count": null,
      "outputs": []
    },
    {
      "cell_type": "code",
      "source": [
        "with open('/content/corpus.txt', encoding='utf-8') as f:\n",
        "  article_text = f.read()\n",
        "\n",
        "input_ids = tokenizer(\n",
        "    [article_text],\n",
        "    add_special_tokens=True,\n",
        "    padding=\"max_length\",\n",
        "    truncation=True,\n",
        "    max_length=1000,\n",
        "    return_tensors=\"pt\"\n",
        ")[\"input_ids\"]\n",
        "\n",
        "output_ids = model.generate(\n",
        "    input_ids=input_ids,\n",
        "    no_repeat_ngram_size=10,\n",
        "    num_beams=10,\n",
        "    early_stopping=True\n",
        ")[0]\n",
        "\n",
        "summary = tokenizer.decode(output_ids, skip_special_tokens=True)\n",
        "print(summary)"
      ],
      "metadata": {
        "colab": {
          "base_uri": "https://localhost:8080/"
        },
        "id": "-74dJma31qgd",
        "outputId": "0bb76fd7-bd34-4df1-8264-603585cb9652"
      },
      "execution_count": null,
      "outputs": [
        {
          "output_type": "stream",
          "name": "stdout",
          "text": [
            "). Согласно современным представлениям, психологическое благополучие — многомерная конструкция, определение которой с течением времени оказывает «значительное (96,2%) уровень симптомов посттравматического стресса и тревоги, беспокойство и состояние оптимизма» (поскольку их частота до сих пор остается предметом дискуссий [2, 3]. По определению Ролло Мэя, психологическое благополучие — это многомерное, системное состояние человека или группы, которое представляет собой сложную взаимосвязь физических, психологических, культурных и духовных факторов и отражает восприятие и оценку человеком своей самореализации с точки зрения пика потенциальных возможностей] [4]. Согласно современным представлениям, психологическое благополучие — это многомерная конструкция, определение которой, с течением времени, оказывает «сложное» системное состояние человека (или группы), которое представляет собой сложную взаимосвязь физических и психических расстройств, а также с результатами обучения и последующими профессиональными результатами, создавая серьезное экономическое бремя [[7]]. Результаты, полученные в ходе систематического обзора и метаанализа 90 публикаций (+46, 284 случая) среди студентов вузов в течение трехлетнего периода пандемии COVID-19, общая распространенность симптомов тревоги составила 29,1% (+95%) (+0,\n"
          ]
        }
      ]
    },
    {
      "cell_type": "code",
      "source": [
        "with open('output_t5_uh.txt', 'w') as f:\n",
        "    f.writelines(summary)"
      ],
      "metadata": {
        "id": "oNJz35ZG9GwH"
      },
      "execution_count": null,
      "outputs": []
    },
    {
      "cell_type": "markdown",
      "source": [
        "## T5 IlyaGusev"
      ],
      "metadata": {
        "id": "lqPmSmWO15E1"
      }
    },
    {
      "cell_type": "code",
      "source": [
        "from transformers import AutoTokenizer, T5ForConditionalGeneration\n",
        "\n",
        "model_name = \"IlyaGusev/rut5_base_sum_gazeta\"\n",
        "tokenizer = AutoTokenizer.from_pretrained(model_name)\n",
        "model = T5ForConditionalGeneration.from_pretrained(model_name)"
      ],
      "metadata": {
        "id": "cgrFl02J18tQ"
      },
      "execution_count": null,
      "outputs": []
    },
    {
      "cell_type": "code",
      "source": [
        "with open('/content/corpus.txt', encoding='utf-8') as f:\n",
        "  article_text = f.read()\n",
        "\n",
        "input_ids = tokenizer(\n",
        "    [article_text],\n",
        "    add_special_tokens=True,\n",
        "    padding=\"max_length\",\n",
        "    truncation=True,\n",
        "    max_length=1000,\n",
        "    return_tensors=\"pt\"\n",
        ")[\"input_ids\"]\n",
        "\n",
        "output_ids = model.generate(\n",
        "    input_ids=input_ids,\n",
        "    no_repeat_ngram_size=10,\n",
        "    num_beams=10,\n",
        "    early_stopping=True\n",
        ")[0]\n",
        "\n",
        "summary = tokenizer.decode(output_ids, skip_special_tokens=True)\n",
        "print(summary)"
      ],
      "metadata": {
        "colab": {
          "base_uri": "https://localhost:8080/"
        },
        "id": "jYmXGiZa2DNH",
        "outputId": "4eccb724-703b-4bc8-c070-fa0bf73c070a"
      },
      "execution_count": null,
      "outputs": [
        {
          "output_type": "stream",
          "name": "stdout",
          "text": [
            "Проблемы, связанные с психическим здоровьем молодежи и взрослых, могут с течением времени оказывать каскадное воздействие на результаты обучения и профессиональных достижений, создавая серьезное экономическое бремя.\n"
          ]
        }
      ]
    },
    {
      "cell_type": "code",
      "source": [
        "with open('output_t5_gusev.txt', 'w') as f:\n",
        "  f.writelines(summary)\n"
      ],
      "metadata": {
        "id": "gWPuu3me991i"
      },
      "execution_count": null,
      "outputs": []
    },
    {
      "cell_type": "markdown",
      "source": [
        "## mBART IlyaGusev"
      ],
      "metadata": {
        "id": "F6KkephJ2Dj7"
      }
    },
    {
      "cell_type": "code",
      "source": [
        "!pip install transformers sentencepiece"
      ],
      "metadata": {
        "id": "IjdbOtTj6IMN"
      },
      "execution_count": null,
      "outputs": []
    },
    {
      "cell_type": "code",
      "source": [
        "from transformers import MBartTokenizer, MBartForConditionalGeneration\n",
        "\n",
        "model_name = \"IlyaGusev/mbart_ru_sum_gazeta\"\n",
        "tokenizer = MBartTokenizer.from_pretrained(model_name)\n",
        "model = MBartForConditionalGeneration.from_pretrained(model_name)"
      ],
      "metadata": {
        "colab": {
          "base_uri": "https://localhost:8080/",
          "height": 49,
          "referenced_widgets": [
            "6cfa72fd095d49a2a110b14b92ca872a",
            "beb243e776a14a968ef211d20257fb8e",
            "4a2821fb58854cf0a5530689d43fdfb0",
            "2e1208ef034b4c2890ff83cf19623df0",
            "dab4a33f14d74fbe90562609c1fbdba7",
            "cb26e1b63578422b8bfed43a0caca847",
            "0b90c40a12dd4f7c8181dc303893f162",
            "59a7e1402d7c413287b6c63df5ddc8d4",
            "d72e63cf0d7148f4b07da303ccd5ff5d",
            "4e5ecb6099cd40499c1265a10b0d020d",
            "b706d22d35f24c36bec37c3993201008"
          ]
        },
        "id": "_cJ9Gu-n2H4l",
        "outputId": "afb027d5-82d2-4e82-b358-335a7ad40b65"
      },
      "execution_count": null,
      "outputs": [
        {
          "output_type": "display_data",
          "data": {
            "text/plain": [
              "model.safetensors:   0%|          | 0.00/3.47G [00:00<?, ?B/s]"
            ],
            "application/vnd.jupyter.widget-view+json": {
              "version_major": 2,
              "version_minor": 0,
              "model_id": "6cfa72fd095d49a2a110b14b92ca872a"
            }
          },
          "metadata": {}
        }
      ]
    },
    {
      "cell_type": "code",
      "source": [
        "with open('/content/corpus.txt', encoding='utf-8') as f:\n",
        "  article_text = f.read()"
      ],
      "metadata": {
        "id": "wzhcw8zQ7C6w"
      },
      "execution_count": null,
      "outputs": []
    },
    {
      "cell_type": "code",
      "source": [
        "input_ids = tokenizer(\n",
        "    [article_text],\n",
        "    max_length=1000,\n",
        "    truncation=True,\n",
        "    return_tensors=\"pt\",\n",
        ")[\"input_ids\"]\n",
        "\n",
        "\n",
        "output_ids = model.generate(\n",
        "    input_ids=input_ids,\n",
        "    no_repeat_ngram_size=10\n",
        ")[0]\n",
        "summary = tokenizer.decode(output_ids, skip_special_tokens=True)\n",
        "print(summary)"
      ],
      "metadata": {
        "id": "MLbQqg5U6oM0",
        "colab": {
          "base_uri": "https://localhost:8080/"
        },
        "outputId": "7a908064-8b34-4ccc-e431-a34db19932ba"
      },
      "execution_count": null,
      "outputs": [
        {
          "output_type": "stream",
          "name": "stdout",
          "text": [
            "Психологическое благополучие личности — один из важнейших факторов успешного обучения и самореализации человека. По мнению исследователей, улучшение психологического благополучия способно снизить риск возникновения соматических, психиатрических и неврологических заболеваний индивидов — депрессии, генерализованного тревожного расстройства, шизофрении и др.\n"
          ]
        }
      ]
    },
    {
      "cell_type": "code",
      "source": [
        "with open('output_mbart.txt', 'w') as f:\n",
        "  f.writelines(summary)"
      ],
      "metadata": {
        "id": "3W21jHS2_Mxn"
      },
      "execution_count": null,
      "outputs": []
    }
  ]
}