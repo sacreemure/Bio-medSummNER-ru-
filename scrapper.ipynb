{
 "cells": [
  {
   "cell_type": "code",
   "execution_count": 2,
   "id": "92e3f0c4-dbd8-4658-b164-434b826f3e33",
   "metadata": {},
   "outputs": [],
   "source": [
    "import os\n",
    "import requests\n",
    "import pandas as pd\n",
    "from bs4 import BeautifulSoup\n",
    "from tqdm.notebook import tqdm"
   ]
  },
  {
   "cell_type": "code",
   "execution_count": 3,
   "id": "0c1227da-59d4-484d-9060-47f65846ffe4",
   "metadata": {},
   "outputs": [],
   "source": [
    "BASE_LINK = 'https://www.rmj.ru'"
   ]
  },
  {
   "cell_type": "code",
   "execution_count": 4,
   "id": "498bc89a-76de-4d89-a442-cf020a8f011f",
   "metadata": {},
   "outputs": [],
   "source": [
    "r = requests.get(f'{BASE_LINK}/articles')"
   ]
  },
  {
   "cell_type": "code",
   "execution_count": 5,
   "id": "4edd6941-0577-46d2-8ac6-3b631c6046b8",
   "metadata": {},
   "outputs": [],
   "source": [
    "base_soup = BeautifulSoup(r.content, parser='lxml')"
   ]
  },
  {
   "cell_type": "code",
   "execution_count": 6,
   "id": "ed8f3fae-b47c-4db3-bb9e-93b548df91e5",
   "metadata": {},
   "outputs": [],
   "source": [
    "categories = [l['href'] for l in base_soup.find('div', {'class': 'left-side'}).find_all('a', href=True)]\n",
    "categories = [f'{BASE_LINK}/articles{l.replace(\"/articles\", \"\")}' for l in categories if l.startswith('/art')][1:]"
   ]
  },
  {
   "cell_type": "code",
   "execution_count": 7,
   "id": "8ad2b34f-c23b-463e-8267-f43c04dcda5d",
   "metadata": {},
   "outputs": [],
   "source": [
    "def add_article_to_copus(art_l, corpus):\n",
    "    try:\n",
    "        art_r = requests.get(art_l)\n",
    "        art_s = BeautifulSoup(art_r.content, parser='lxml')\n",
    "        header = art_s.find('div', {'class': 'h2'}).text\n",
    "        annotation = art_s.find('div', {'id': 'resume-lang-ru'}).text\n",
    "        text = art_s.find('div', {'itemprop': 'articleBody'}).text\n",
    "        corpus.append([header, annotation, text])\n",
    "    except Exception as e:\n",
    "        print('\\n', art_l)"
   ]
  },
  {
   "cell_type": "code",
   "execution_count": 8,
   "id": "b6e612ab-9728-42df-a7f1-03a0b31ca28f",
   "metadata": {},
   "outputs": [
    {
     "data": {
      "application/vnd.jupyter.widget-view+json": {
       "model_id": "2363ea0d8a5e4299ae8a3575996fb8c6",
       "version_major": 2,
       "version_minor": 0
      },
      "text/plain": [
       "  0%|          | 0/1 [00:00<?, ?it/s]"
      ]
     },
     "metadata": {},
     "output_type": "display_data"
    },
    {
     "name": "stdout",
     "output_type": "stream",
     "text": [
      "https://www.rmj.ru/articles/covid-19/\r"
     ]
    },
    {
     "data": {
      "application/vnd.jupyter.widget-view+json": {
       "model_id": "38274669ee41436c8b11a876234d33d8",
       "version_major": 2,
       "version_minor": 0
      },
      "text/plain": [
       "  0%|          | 0/16 [00:00<?, ?it/s]"
      ]
     },
     "metadata": {},
     "output_type": "display_data"
    }
   ],
   "source": [
    "corpus = []\n",
    "for cat_l in tqdm(categories[:1]):\n",
    "    print(cat_l, end='\\r')\n",
    "    cat_r = requests.get(cat_l)\n",
    "    cat_soup = BeautifulSoup(cat_r.content, parser='lxml')\n",
    "    last_page = int(cat_soup.find_all('li', {'class': 'page'})[-1].find('a', href=True)['href'].split('/')[-1][9:])\n",
    "    pages = [cat_l] + [f'{cat_l}?PAGEN_2={i}' for i in range(2, last_page+1)]\n",
    "    # print(pages)\n",
    "    # break\n",
    "    for page_l in tqdm(pages):\n",
    "        page_r = requests.get(page_l)\n",
    "        page_s = BeautifulSoup(page_r.content, parser='lxml')\n",
    "        articles_links = [f\"{BASE_LINK}/articles{l.find('a', href=True)['href']}\" for l in page_s.find_all('div', {'class': 'article-sm'})]\n",
    "        for art_l in articles_links:\n",
    "            add_article_to_copus(art_l, corpus)"
   ]
  },
  {
   "cell_type": "code",
   "execution_count": 9,
   "id": "856436db-473e-4004-90e5-b996b9bc9ac1",
   "metadata": {},
   "outputs": [],
   "source": [
    "corpus_df = pd.DataFrame(corpus, columns=['header', 'annotation', 'text'])"
   ]
  },
  {
   "cell_type": "code",
   "execution_count": 10,
   "id": "23ada753-9bbf-4307-9668-24b212ad2d39",
   "metadata": {},
   "outputs": [
    {
     "data": {
      "text/html": [
       "<div>\n",
       "<style scoped>\n",
       "    .dataframe tbody tr th:only-of-type {\n",
       "        vertical-align: middle;\n",
       "    }\n",
       "\n",
       "    .dataframe tbody tr th {\n",
       "        vertical-align: top;\n",
       "    }\n",
       "\n",
       "    .dataframe thead th {\n",
       "        text-align: right;\n",
       "    }\n",
       "</style>\n",
       "<table border=\"1\" class=\"dataframe\">\n",
       "  <thead>\n",
       "    <tr style=\"text-align: right;\">\n",
       "      <th></th>\n",
       "      <th>header</th>\n",
       "      <th>annotation</th>\n",
       "      <th>text</th>\n",
       "    </tr>\n",
       "  </thead>\n",
       "  <tbody>\n",
       "    <tr>\n",
       "      <th>0</th>\n",
       "      <td>Влияние пандемии COVID-19 на психологическое б...</td>\n",
       "      <td>\\nЦель исследования: оценка уровня психологиче...</td>\n",
       "      <td>\\nВведение\\r\\n Психологическое благополучие ли...</td>\n",
       "    </tr>\n",
       "    <tr>\n",
       "      <th>1</th>\n",
       "      <td>SARS-CоV-2: что позволило вирусу вызвать длите...</td>\n",
       "      <td>\\nЗавершившаяся пандемия COVID-19 привела к за...</td>\n",
       "      <td>\\nВведение\\r\\n Коронавирусы представляют собой...</td>\n",
       "    </tr>\n",
       "    <tr>\n",
       "      <th>2</th>\n",
       "      <td>Факторы риска развития COVID-19: иммунологичес...</td>\n",
       "      <td>\\n\\r\\n\\t Исследования последних лет, посвященн...</td>\n",
       "      <td>\\n\\r\\nВведение \\n\\r\\n\\t Новая коронавирусная и...</td>\n",
       "    </tr>\n",
       "    <tr>\n",
       "      <th>3</th>\n",
       "      <td>К вопросу об антивирусной терапии COVID-19</td>\n",
       "      <td>\\nВ обзоре представлены данные о заболеваемост...</td>\n",
       "      <td>\\n        Острые респираторные вирусные инфекц...</td>\n",
       "    </tr>\n",
       "    <tr>\n",
       "      <th>4</th>\n",
       "      <td>Листериозный менингоэнцефалит: особенности теч...</td>\n",
       "      <td>\\nПроблема листериоза многие годы привлекает в...</td>\n",
       "      <td>\\nВведение\\r\\n Проблема листериоза продолжает ...</td>\n",
       "    </tr>\n",
       "    <tr>\n",
       "      <th>...</th>\n",
       "      <td>...</td>\n",
       "      <td>...</td>\n",
       "      <td>...</td>\n",
       "    </tr>\n",
       "    <tr>\n",
       "      <th>118</th>\n",
       "      <td>Боль, падения, ограничение двигательной активн...</td>\n",
       "      <td>\\n\\nВ статье обсуждаются актуальные, с точки з...</td>\n",
       "      <td>\\n Введение \\n\\r\\n\\t Согласно данным ВОЗ ожида...</td>\n",
       "    </tr>\n",
       "    <tr>\n",
       "      <th>119</th>\n",
       "      <td>Международные рекомендации по ведению пациенто...</td>\n",
       "      <td>\\n\\nУсловия пандемии коронавирусной инфекции C...</td>\n",
       "      <td>\\n\\n\\n\\n\\r\\n\\t Коронавирусная инфекция COVID-1...</td>\n",
       "    </tr>\n",
       "    <tr>\n",
       "      <th>120</th>\n",
       "      <td>Профилактика и лечение острых респираторных ин...</td>\n",
       "      <td>\\n\\nОстрые респираторные инфекции (ОРИ) являют...</td>\n",
       "      <td>\\n Введение \\n\\r\\n\\t Острые респираторные инфе...</td>\n",
       "    </tr>\n",
       "    <tr>\n",
       "      <th>121</th>\n",
       "      <td>COVID-19 и дети</td>\n",
       "      <td>\\n\\n11 марта 2020 г. ВОЗ объявила о начале пан...</td>\n",
       "      <td>\\n\\n\\n\\n\\r\\n\\t 11 марта 2020 г. ВОЗ объявила о...</td>\n",
       "    </tr>\n",
       "    <tr>\n",
       "      <th>122</th>\n",
       "      <td>Практические рекомендации по ведению пациентов...</td>\n",
       "      <td>\\n\\nВнебольничная пневмония (ВП) является одно...</td>\n",
       "      <td>\\n\\n\\n\\n Введение \\n\\r\\n\\t Внебольничная пневм...</td>\n",
       "    </tr>\n",
       "  </tbody>\n",
       "</table>\n",
       "<p>123 rows × 3 columns</p>\n",
       "</div>"
      ],
      "text/plain": [
       "                                                header   \n",
       "0    Влияние пандемии COVID-19 на психологическое б...  \\\n",
       "1    SARS-CоV-2: что позволило вирусу вызвать длите...   \n",
       "2    Факторы риска развития COVID-19: иммунологичес...   \n",
       "3           К вопросу об антивирусной терапии COVID-19   \n",
       "4    Листериозный менингоэнцефалит: особенности теч...   \n",
       "..                                                 ...   \n",
       "118  Боль, падения, ограничение двигательной активн...   \n",
       "119  Международные рекомендации по ведению пациенто...   \n",
       "120  Профилактика и лечение острых респираторных ин...   \n",
       "121                                    COVID-19 и дети   \n",
       "122  Практические рекомендации по ведению пациентов...   \n",
       "\n",
       "                                            annotation   \n",
       "0    \\nЦель исследования: оценка уровня психологиче...  \\\n",
       "1    \\nЗавершившаяся пандемия COVID-19 привела к за...   \n",
       "2    \\n\\r\\n\\t Исследования последних лет, посвященн...   \n",
       "3    \\nВ обзоре представлены данные о заболеваемост...   \n",
       "4    \\nПроблема листериоза многие годы привлекает в...   \n",
       "..                                                 ...   \n",
       "118  \\n\\nВ статье обсуждаются актуальные, с точки з...   \n",
       "119  \\n\\nУсловия пандемии коронавирусной инфекции C...   \n",
       "120  \\n\\nОстрые респираторные инфекции (ОРИ) являют...   \n",
       "121  \\n\\n11 марта 2020 г. ВОЗ объявила о начале пан...   \n",
       "122  \\n\\nВнебольничная пневмония (ВП) является одно...   \n",
       "\n",
       "                                                  text  \n",
       "0    \\nВведение\\r\\n Психологическое благополучие ли...  \n",
       "1    \\nВведение\\r\\n Коронавирусы представляют собой...  \n",
       "2    \\n\\r\\nВведение \\n\\r\\n\\t Новая коронавирусная и...  \n",
       "3    \\n        Острые респираторные вирусные инфекц...  \n",
       "4    \\nВведение\\r\\n Проблема листериоза продолжает ...  \n",
       "..                                                 ...  \n",
       "118  \\n Введение \\n\\r\\n\\t Согласно данным ВОЗ ожида...  \n",
       "119  \\n\\n\\n\\n\\r\\n\\t Коронавирусная инфекция COVID-1...  \n",
       "120  \\n Введение \\n\\r\\n\\t Острые респираторные инфе...  \n",
       "121  \\n\\n\\n\\n\\r\\n\\t 11 марта 2020 г. ВОЗ объявила о...  \n",
       "122  \\n\\n\\n\\n Введение \\n\\r\\n\\t Внебольничная пневм...  \n",
       "\n",
       "[123 rows x 3 columns]"
      ]
     },
     "execution_count": 10,
     "metadata": {},
     "output_type": "execute_result"
    }
   ],
   "source": [
    "corpus_df"
   ]
  },
  {
   "cell_type": "code",
   "execution_count": 14,
   "id": "de24ed0f",
   "metadata": {},
   "outputs": [
    {
     "data": {
      "text/plain": [
       "0      \\nЦель исследования: оценка уровня психологиче...\n",
       "1      \\nЗавершившаяся пандемия COVID-19 привела к за...\n",
       "2      \\n\\r\\n\\t Исследования последних лет, посвященн...\n",
       "3      \\nВ обзоре представлены данные о заболеваемост...\n",
       "4      \\nПроблема листериоза многие годы привлекает в...\n",
       "                             ...                        \n",
       "118    \\n\\nВ статье обсуждаются актуальные, с точки з...\n",
       "119    \\n\\nУсловия пандемии коронавирусной инфекции C...\n",
       "120    \\n\\nОстрые респираторные инфекции (ОРИ) являют...\n",
       "121    \\n\\n11 марта 2020 г. ВОЗ объявила о начале пан...\n",
       "122    \\n\\nВнебольничная пневмония (ВП) является одно...\n",
       "Name: annotation, Length: 123, dtype: object"
      ]
     },
     "execution_count": 14,
     "metadata": {},
     "output_type": "execute_result"
    }
   ],
   "source": [
    "corpus_df['annotation']"
   ]
  },
  {
   "cell_type": "code",
   "execution_count": 15,
   "id": "665a6fda",
   "metadata": {},
   "outputs": [
    {
     "data": {
      "text/plain": [
       "0      \\nВведение\\r\\n Психологическое благополучие ли...\n",
       "1      \\nВведение\\r\\n Коронавирусы представляют собой...\n",
       "2      \\n\\r\\nВведение \\n\\r\\n\\t Новая коронавирусная и...\n",
       "3      \\n        Острые респираторные вирусные инфекц...\n",
       "4      \\nВведение\\r\\n Проблема листериоза продолжает ...\n",
       "                             ...                        \n",
       "118    \\n Введение \\n\\r\\n\\t Согласно данным ВОЗ ожида...\n",
       "119    \\n\\n\\n\\n\\r\\n\\t Коронавирусная инфекция COVID-1...\n",
       "120    \\n Введение \\n\\r\\n\\t Острые респираторные инфе...\n",
       "121    \\n\\n\\n\\n\\r\\n\\t 11 марта 2020 г. ВОЗ объявила о...\n",
       "122    \\n\\n\\n\\n Введение \\n\\r\\n\\t Внебольничная пневм...\n",
       "Name: text, Length: 123, dtype: object"
      ]
     },
     "execution_count": 15,
     "metadata": {},
     "output_type": "execute_result"
    }
   ],
   "source": [
    "corpus_df['text']"
   ]
  },
  {
   "cell_type": "code",
   "execution_count": 11,
   "id": "57707eac",
   "metadata": {},
   "outputs": [],
   "source": [
    "import nltk"
   ]
  },
  {
   "cell_type": "code",
   "execution_count": 17,
   "id": "10e37313",
   "metadata": {},
   "outputs": [],
   "source": [
    "# nltk.word_tokenize(corpus_df['annotation'][0])"
   ]
  },
  {
   "cell_type": "code",
   "execution_count": 18,
   "id": "f411a4ab",
   "metadata": {},
   "outputs": [],
   "source": [
    "#corpus_df.to_csv('rmj_corpus_raw.csv')"
   ]
  },
  {
   "cell_type": "code",
   "execution_count": 12,
   "id": "c1d9d782",
   "metadata": {},
   "outputs": [
    {
     "data": {
      "text/html": [
       "<div>\n",
       "<style scoped>\n",
       "    .dataframe tbody tr th:only-of-type {\n",
       "        vertical-align: middle;\n",
       "    }\n",
       "\n",
       "    .dataframe tbody tr th {\n",
       "        vertical-align: top;\n",
       "    }\n",
       "\n",
       "    .dataframe thead th {\n",
       "        text-align: right;\n",
       "    }\n",
       "</style>\n",
       "<table border=\"1\" class=\"dataframe\">\n",
       "  <thead>\n",
       "    <tr style=\"text-align: right;\">\n",
       "      <th></th>\n",
       "      <th>header</th>\n",
       "      <th>annotation</th>\n",
       "      <th>text</th>\n",
       "    </tr>\n",
       "  </thead>\n",
       "  <tbody>\n",
       "    <tr>\n",
       "      <th>0</th>\n",
       "      <td>Влияние пандемии COVID-19 на психологическое б...</td>\n",
       "      <td>\\nцель исследования: оценка уровня психологиче...</td>\n",
       "      <td>\\nВведение\\r\\n Психологическое благополучие ли...</td>\n",
       "    </tr>\n",
       "    <tr>\n",
       "      <th>1</th>\n",
       "      <td>SARS-CоV-2: что позволило вирусу вызвать длите...</td>\n",
       "      <td>\\nзавершившаяся пандемия covid-19 привела к за...</td>\n",
       "      <td>\\nВведение\\r\\n Коронавирусы представляют собой...</td>\n",
       "    </tr>\n",
       "    <tr>\n",
       "      <th>2</th>\n",
       "      <td>Факторы риска развития COVID-19: иммунологичес...</td>\n",
       "      <td>\\n\\r\\n\\t исследования последних лет, посвященн...</td>\n",
       "      <td>\\n\\r\\nВведение \\n\\r\\n\\t Новая коронавирусная и...</td>\n",
       "    </tr>\n",
       "    <tr>\n",
       "      <th>3</th>\n",
       "      <td>К вопросу об антивирусной терапии COVID-19</td>\n",
       "      <td>\\nв обзоре представлены данные о заболеваемост...</td>\n",
       "      <td>\\n        Острые респираторные вирусные инфекц...</td>\n",
       "    </tr>\n",
       "    <tr>\n",
       "      <th>4</th>\n",
       "      <td>Листериозный менингоэнцефалит: особенности теч...</td>\n",
       "      <td>\\nпроблема листериоза многие годы привлекает в...</td>\n",
       "      <td>\\nВведение\\r\\n Проблема листериоза продолжает ...</td>\n",
       "    </tr>\n",
       "  </tbody>\n",
       "</table>\n",
       "</div>"
      ],
      "text/plain": [
       "                                              header   \n",
       "0  Влияние пандемии COVID-19 на психологическое б...  \\\n",
       "1  SARS-CоV-2: что позволило вирусу вызвать длите...   \n",
       "2  Факторы риска развития COVID-19: иммунологичес...   \n",
       "3         К вопросу об антивирусной терапии COVID-19   \n",
       "4  Листериозный менингоэнцефалит: особенности теч...   \n",
       "\n",
       "                                          annotation   \n",
       "0  \\nцель исследования: оценка уровня психологиче...  \\\n",
       "1  \\nзавершившаяся пандемия covid-19 привела к за...   \n",
       "2  \\n\\r\\n\\t исследования последних лет, посвященн...   \n",
       "3  \\nв обзоре представлены данные о заболеваемост...   \n",
       "4  \\nпроблема листериоза многие годы привлекает в...   \n",
       "\n",
       "                                                text  \n",
       "0  \\nВведение\\r\\n Психологическое благополучие ли...  \n",
       "1  \\nВведение\\r\\n Коронавирусы представляют собой...  \n",
       "2  \\n\\r\\nВведение \\n\\r\\n\\t Новая коронавирусная и...  \n",
       "3  \\n        Острые респираторные вирусные инфекц...  \n",
       "4  \\nВведение\\r\\n Проблема листериоза продолжает ...  "
      ]
     },
     "execution_count": 12,
     "metadata": {},
     "output_type": "execute_result"
    }
   ],
   "source": [
    "def standardize_text(df, an_field):\n",
    "    df[an_field] = df[an_field].str.replace(r\"http\\S+\", \"\")\n",
    "    df[an_field] = df[an_field].str.replace(r\"http\", \"\")\n",
    "    df[an_field] = df[an_field].str.replace(r\"@\\S+\", \"\")\n",
    "    df[an_field] = df[an_field].str.replace(r\"[^,!?@\\'\\`\\\"\\_\\t\\r\\n]\", \" \")\n",
    "    df[an_field] = df[an_field].str.replace(r\"@\", \"at\")\n",
    "    df[an_field] = df[an_field].str.replace(r\"[\\n\\t\\r]\", \"\")\n",
    "    df[an_field] = df[an_field].str.lower()\n",
    "    return df\n",
    "\n",
    "corpus = standardize_text(corpus_df, \"annotation\")\n",
    "\n",
    "corpus.head()"
   ]
  },
  {
   "cell_type": "code",
   "execution_count": 13,
   "id": "245f8d5d",
   "metadata": {},
   "outputs": [
    {
     "data": {
      "text/html": [
       "<div>\n",
       "<style scoped>\n",
       "    .dataframe tbody tr th:only-of-type {\n",
       "        vertical-align: middle;\n",
       "    }\n",
       "\n",
       "    .dataframe tbody tr th {\n",
       "        vertical-align: top;\n",
       "    }\n",
       "\n",
       "    .dataframe thead th {\n",
       "        text-align: right;\n",
       "    }\n",
       "</style>\n",
       "<table border=\"1\" class=\"dataframe\">\n",
       "  <thead>\n",
       "    <tr style=\"text-align: right;\">\n",
       "      <th></th>\n",
       "      <th>header</th>\n",
       "      <th>annotation</th>\n",
       "      <th>text</th>\n",
       "    </tr>\n",
       "  </thead>\n",
       "  <tbody>\n",
       "    <tr>\n",
       "      <th>0</th>\n",
       "      <td>Влияние пандемии COVID-19 на психологическое б...</td>\n",
       "      <td>\\nцель исследования: оценка уровня психологиче...</td>\n",
       "      <td>\\nвведение\\r\\n психологическое благополучие ли...</td>\n",
       "    </tr>\n",
       "    <tr>\n",
       "      <th>1</th>\n",
       "      <td>SARS-CоV-2: что позволило вирусу вызвать длите...</td>\n",
       "      <td>\\nзавершившаяся пандемия covid-19 привела к за...</td>\n",
       "      <td>\\nвведение\\r\\n коронавирусы представляют собой...</td>\n",
       "    </tr>\n",
       "    <tr>\n",
       "      <th>2</th>\n",
       "      <td>Факторы риска развития COVID-19: иммунологичес...</td>\n",
       "      <td>\\n\\r\\n\\t исследования последних лет, посвященн...</td>\n",
       "      <td>\\n\\r\\nвведение \\n\\r\\n\\t новая коронавирусная и...</td>\n",
       "    </tr>\n",
       "    <tr>\n",
       "      <th>3</th>\n",
       "      <td>К вопросу об антивирусной терапии COVID-19</td>\n",
       "      <td>\\nв обзоре представлены данные о заболеваемост...</td>\n",
       "      <td>\\n        острые респираторные вирусные инфекц...</td>\n",
       "    </tr>\n",
       "    <tr>\n",
       "      <th>4</th>\n",
       "      <td>Листериозный менингоэнцефалит: особенности теч...</td>\n",
       "      <td>\\nпроблема листериоза многие годы привлекает в...</td>\n",
       "      <td>\\nвведение\\r\\n проблема листериоза продолжает ...</td>\n",
       "    </tr>\n",
       "  </tbody>\n",
       "</table>\n",
       "</div>"
      ],
      "text/plain": [
       "                                              header   \n",
       "0  Влияние пандемии COVID-19 на психологическое б...  \\\n",
       "1  SARS-CоV-2: что позволило вирусу вызвать длите...   \n",
       "2  Факторы риска развития COVID-19: иммунологичес...   \n",
       "3         К вопросу об антивирусной терапии COVID-19   \n",
       "4  Листериозный менингоэнцефалит: особенности теч...   \n",
       "\n",
       "                                          annotation   \n",
       "0  \\nцель исследования: оценка уровня психологиче...  \\\n",
       "1  \\nзавершившаяся пандемия covid-19 привела к за...   \n",
       "2  \\n\\r\\n\\t исследования последних лет, посвященн...   \n",
       "3  \\nв обзоре представлены данные о заболеваемост...   \n",
       "4  \\nпроблема листериоза многие годы привлекает в...   \n",
       "\n",
       "                                                text  \n",
       "0  \\nвведение\\r\\n психологическое благополучие ли...  \n",
       "1  \\nвведение\\r\\n коронавирусы представляют собой...  \n",
       "2  \\n\\r\\nвведение \\n\\r\\n\\t новая коронавирусная и...  \n",
       "3  \\n        острые респираторные вирусные инфекц...  \n",
       "4  \\nвведение\\r\\n проблема листериоза продолжает ...  "
      ]
     },
     "execution_count": 13,
     "metadata": {},
     "output_type": "execute_result"
    }
   ],
   "source": [
    "def standardize_text(df, text_field):\n",
    "    df[text_field] = df[text_field].str.replace(r\"http\\S+\", \"\")\n",
    "    df[text_field] = df[text_field].str.replace(r\"http\", \"\")\n",
    "    df[text_field] = df[text_field].str.replace(r\"@\\S+\", \"\")\n",
    "    df[text_field] = df[text_field].str.replace(r\"[^,!?@\\'\\`\\\"\\_\\t\\r\\n]\", \" \")\n",
    "    df[text_field] = df[text_field].str.replace(r\"@\", \"at\")\n",
    "    df[text_field] = df[text_field].str.replace(r\"[\\n\\t\\r]\", \"\")\n",
    "    df[text_field] = df[text_field].str.lower()\n",
    "    return df\n",
    "\n",
    "corpus = standardize_text(corpus_df, \"text\")\n",
    "\n",
    "corpus.head()"
   ]
  },
  {
   "cell_type": "code",
   "execution_count": 14,
   "id": "43674293",
   "metadata": {},
   "outputs": [
    {
     "data": {
      "text/html": [
       "<div>\n",
       "<style scoped>\n",
       "    .dataframe tbody tr th:only-of-type {\n",
       "        vertical-align: middle;\n",
       "    }\n",
       "\n",
       "    .dataframe tbody tr th {\n",
       "        vertical-align: top;\n",
       "    }\n",
       "\n",
       "    .dataframe thead th {\n",
       "        text-align: right;\n",
       "    }\n",
       "</style>\n",
       "<table border=\"1\" class=\"dataframe\">\n",
       "  <thead>\n",
       "    <tr style=\"text-align: right;\">\n",
       "      <th></th>\n",
       "      <th>header</th>\n",
       "      <th>annotation</th>\n",
       "      <th>text</th>\n",
       "    </tr>\n",
       "  </thead>\n",
       "  <tbody>\n",
       "    <tr>\n",
       "      <th>0</th>\n",
       "      <td>влияние пандемии covid-19 на психологическое б...</td>\n",
       "      <td>\\nцель исследования: оценка уровня психологиче...</td>\n",
       "      <td>\\nвведение\\r\\n психологическое благополучие ли...</td>\n",
       "    </tr>\n",
       "    <tr>\n",
       "      <th>1</th>\n",
       "      <td>sars-cоv-2: что позволило вирусу вызвать длите...</td>\n",
       "      <td>\\nзавершившаяся пандемия covid-19 привела к за...</td>\n",
       "      <td>\\nвведение\\r\\n коронавирусы представляют собой...</td>\n",
       "    </tr>\n",
       "    <tr>\n",
       "      <th>2</th>\n",
       "      <td>факторы риска развития covid-19: иммунологичес...</td>\n",
       "      <td>\\n\\r\\n\\t исследования последних лет, посвященн...</td>\n",
       "      <td>\\n\\r\\nвведение \\n\\r\\n\\t новая коронавирусная и...</td>\n",
       "    </tr>\n",
       "    <tr>\n",
       "      <th>3</th>\n",
       "      <td>к вопросу об антивирусной терапии covid-19</td>\n",
       "      <td>\\nв обзоре представлены данные о заболеваемост...</td>\n",
       "      <td>\\n        острые респираторные вирусные инфекц...</td>\n",
       "    </tr>\n",
       "    <tr>\n",
       "      <th>4</th>\n",
       "      <td>листериозный менингоэнцефалит: особенности теч...</td>\n",
       "      <td>\\nпроблема листериоза многие годы привлекает в...</td>\n",
       "      <td>\\nвведение\\r\\n проблема листериоза продолжает ...</td>\n",
       "    </tr>\n",
       "  </tbody>\n",
       "</table>\n",
       "</div>"
      ],
      "text/plain": [
       "                                              header   \n",
       "0  влияние пандемии covid-19 на психологическое б...  \\\n",
       "1  sars-cоv-2: что позволило вирусу вызвать длите...   \n",
       "2  факторы риска развития covid-19: иммунологичес...   \n",
       "3         к вопросу об антивирусной терапии covid-19   \n",
       "4  листериозный менингоэнцефалит: особенности теч...   \n",
       "\n",
       "                                          annotation   \n",
       "0  \\nцель исследования: оценка уровня психологиче...  \\\n",
       "1  \\nзавершившаяся пандемия covid-19 привела к за...   \n",
       "2  \\n\\r\\n\\t исследования последних лет, посвященн...   \n",
       "3  \\nв обзоре представлены данные о заболеваемост...   \n",
       "4  \\nпроблема листериоза многие годы привлекает в...   \n",
       "\n",
       "                                                text  \n",
       "0  \\nвведение\\r\\n психологическое благополучие ли...  \n",
       "1  \\nвведение\\r\\n коронавирусы представляют собой...  \n",
       "2  \\n\\r\\nвведение \\n\\r\\n\\t новая коронавирусная и...  \n",
       "3  \\n        острые респираторные вирусные инфекц...  \n",
       "4  \\nвведение\\r\\n проблема листериоза продолжает ...  "
      ]
     },
     "execution_count": 14,
     "metadata": {},
     "output_type": "execute_result"
    }
   ],
   "source": [
    "def standardize_text(df, head_field):\n",
    "    df[head_field] = df[head_field].str.replace(r\"http\\S+\", \"\")\n",
    "    df[head_field] = df[head_field].str.replace(r\"http\", \"\")\n",
    "    df[head_field] = df[head_field].str.replace(r\"@\\S+\", \"\")\n",
    "    df[head_field] = df[head_field].str.replace(r\"[^,!?@\\'\\`\\\"\\_]\", \" \")\n",
    "    df[head_field] = df[head_field].str.replace(r\"@\", \"at\")\n",
    "    df[head_field] = df[head_field].str.replace(r\"[\\n\\t\\r]\", \"\")\n",
    "    df[head_field] = df[head_field].str.lower()\n",
    "    return df\n",
    "\n",
    "corpus = standardize_text(corpus_df, \"header\")\n",
    "\n",
    "corpus.to_csv(\"clean_corpusdata.csv\")\n",
    "corpus.head()"
   ]
  },
  {
   "cell_type": "code",
   "execution_count": 22,
   "id": "3ee0bbe5",
   "metadata": {},
   "outputs": [
    {
     "data": {
      "text/html": [
       "<div>\n",
       "<style scoped>\n",
       "    .dataframe tbody tr th:only-of-type {\n",
       "        vertical-align: middle;\n",
       "    }\n",
       "\n",
       "    .dataframe tbody tr th {\n",
       "        vertical-align: top;\n",
       "    }\n",
       "\n",
       "    .dataframe thead th {\n",
       "        text-align: right;\n",
       "    }\n",
       "</style>\n",
       "<table border=\"1\" class=\"dataframe\">\n",
       "  <thead>\n",
       "    <tr style=\"text-align: right;\">\n",
       "      <th></th>\n",
       "      <th>header</th>\n",
       "      <th>annotation</th>\n",
       "      <th>text</th>\n",
       "    </tr>\n",
       "  </thead>\n",
       "  <tbody>\n",
       "    <tr>\n",
       "      <th>118</th>\n",
       "      <td>боль, падения, ограничение двигательной активн...</td>\n",
       "      <td>\\n\\nв статье обсуждаются актуальные, с точки з...</td>\n",
       "      <td>\\n введение \\n\\r\\n\\t согласно данным воз ожида...</td>\n",
       "    </tr>\n",
       "    <tr>\n",
       "      <th>119</th>\n",
       "      <td>международные рекомендации по ведению пациенто...</td>\n",
       "      <td>\\n\\nусловия пандемии коронавирусной инфекции c...</td>\n",
       "      <td>\\n\\n\\n\\n\\r\\n\\t коронавирусная инфекция covid-1...</td>\n",
       "    </tr>\n",
       "    <tr>\n",
       "      <th>120</th>\n",
       "      <td>профилактика и лечение острых респираторных ин...</td>\n",
       "      <td>\\n\\nострые респираторные инфекции (ори) являют...</td>\n",
       "      <td>\\n введение \\n\\r\\n\\t острые респираторные инфе...</td>\n",
       "    </tr>\n",
       "    <tr>\n",
       "      <th>121</th>\n",
       "      <td>covid-19 и дети</td>\n",
       "      <td>\\n\\n11 марта 2020 г. воз объявила о начале пан...</td>\n",
       "      <td>\\n\\n\\n\\n\\r\\n\\t 11 марта 2020 г. воз объявила о...</td>\n",
       "    </tr>\n",
       "    <tr>\n",
       "      <th>122</th>\n",
       "      <td>практические рекомендации по ведению пациентов...</td>\n",
       "      <td>\\n\\nвнебольничная пневмония (вп) является одно...</td>\n",
       "      <td>\\n\\n\\n\\n введение \\n\\r\\n\\t внебольничная пневм...</td>\n",
       "    </tr>\n",
       "  </tbody>\n",
       "</table>\n",
       "</div>"
      ],
      "text/plain": [
       "                                                header   \n",
       "118  боль, падения, ограничение двигательной активн...  \\\n",
       "119  международные рекомендации по ведению пациенто...   \n",
       "120  профилактика и лечение острых респираторных ин...   \n",
       "121                                    covid-19 и дети   \n",
       "122  практические рекомендации по ведению пациентов...   \n",
       "\n",
       "                                            annotation   \n",
       "118  \\n\\nв статье обсуждаются актуальные, с точки з...  \\\n",
       "119  \\n\\nусловия пандемии коронавирусной инфекции c...   \n",
       "120  \\n\\nострые респираторные инфекции (ори) являют...   \n",
       "121  \\n\\n11 марта 2020 г. воз объявила о начале пан...   \n",
       "122  \\n\\nвнебольничная пневмония (вп) является одно...   \n",
       "\n",
       "                                                  text  \n",
       "118  \\n введение \\n\\r\\n\\t согласно данным воз ожида...  \n",
       "119  \\n\\n\\n\\n\\r\\n\\t коронавирусная инфекция covid-1...  \n",
       "120  \\n введение \\n\\r\\n\\t острые респираторные инфе...  \n",
       "121  \\n\\n\\n\\n\\r\\n\\t 11 марта 2020 г. воз объявила о...  \n",
       "122  \\n\\n\\n\\n введение \\n\\r\\n\\t внебольничная пневм...  "
      ]
     },
     "execution_count": 22,
     "metadata": {},
     "output_type": "execute_result"
    }
   ],
   "source": [
    "corpus.tail()"
   ]
  },
  {
   "cell_type": "code",
   "execution_count": 15,
   "id": "92f2246a",
   "metadata": {},
   "outputs": [
    {
     "data": {
      "text/html": [
       "<div>\n",
       "<style scoped>\n",
       "    .dataframe tbody tr th:only-of-type {\n",
       "        vertical-align: middle;\n",
       "    }\n",
       "\n",
       "    .dataframe tbody tr th {\n",
       "        vertical-align: top;\n",
       "    }\n",
       "\n",
       "    .dataframe thead th {\n",
       "        text-align: right;\n",
       "    }\n",
       "</style>\n",
       "<table border=\"1\" class=\"dataframe\">\n",
       "  <thead>\n",
       "    <tr style=\"text-align: right;\">\n",
       "      <th></th>\n",
       "      <th>header</th>\n",
       "      <th>annotation</th>\n",
       "      <th>text</th>\n",
       "      <th>tokens_head</th>\n",
       "      <th>tokens_an</th>\n",
       "      <th>tokens_text</th>\n",
       "    </tr>\n",
       "  </thead>\n",
       "  <tbody>\n",
       "    <tr>\n",
       "      <th>0</th>\n",
       "      <td>влияние пандемии covid-19 на психологическое б...</td>\n",
       "      <td>\\nцель исследования: оценка уровня психологиче...</td>\n",
       "      <td>\\nвведение\\r\\n психологическое благополучие ли...</td>\n",
       "      <td>[влияние, пандемии, covid, 19, на, психологиче...</td>\n",
       "      <td>[цель, исследования, оценка, уровня, психологи...</td>\n",
       "      <td>[введение, психологическое, благополучие, личн...</td>\n",
       "    </tr>\n",
       "    <tr>\n",
       "      <th>1</th>\n",
       "      <td>sars-cоv-2: что позволило вирусу вызвать длите...</td>\n",
       "      <td>\\nзавершившаяся пандемия covid-19 привела к за...</td>\n",
       "      <td>\\nвведение\\r\\n коронавирусы представляют собой...</td>\n",
       "      <td>[sars, cоv, 2, что, позволило, вирусу, вызвать...</td>\n",
       "      <td>[завершившаяся, пандемия, covid, 19, привела, ...</td>\n",
       "      <td>[введение, коронавирусы, представляют, собой, ...</td>\n",
       "    </tr>\n",
       "    <tr>\n",
       "      <th>2</th>\n",
       "      <td>факторы риска развития covid-19: иммунологичес...</td>\n",
       "      <td>\\n\\r\\n\\t исследования последних лет, посвященн...</td>\n",
       "      <td>\\n\\r\\nвведение \\n\\r\\n\\t новая коронавирусная и...</td>\n",
       "      <td>[факторы, риска, развития, covid, 19, иммуноло...</td>\n",
       "      <td>[исследования, последних, лет, посвященные, ос...</td>\n",
       "      <td>[введение, новая, коронавирусная, инфекция, co...</td>\n",
       "    </tr>\n",
       "    <tr>\n",
       "      <th>3</th>\n",
       "      <td>к вопросу об антивирусной терапии covid-19</td>\n",
       "      <td>\\nв обзоре представлены данные о заболеваемост...</td>\n",
       "      <td>\\n        острые респираторные вирусные инфекц...</td>\n",
       "      <td>[к, вопросу, об, антивирусной, терапии, covid,...</td>\n",
       "      <td>[в, обзоре, представлены, данные, о, заболевае...</td>\n",
       "      <td>[острые, респираторные, вирусные, инфекции, ор...</td>\n",
       "    </tr>\n",
       "    <tr>\n",
       "      <th>4</th>\n",
       "      <td>листериозный менингоэнцефалит: особенности теч...</td>\n",
       "      <td>\\nпроблема листериоза многие годы привлекает в...</td>\n",
       "      <td>\\nвведение\\r\\n проблема листериоза продолжает ...</td>\n",
       "      <td>[листериозный, менингоэнцефалит, особенности, ...</td>\n",
       "      <td>[проблема, листериоза, многие, годы, привлекае...</td>\n",
       "      <td>[введение, проблема, листериоза, продолжает, п...</td>\n",
       "    </tr>\n",
       "  </tbody>\n",
       "</table>\n",
       "</div>"
      ],
      "text/plain": [
       "                                              header   \n",
       "0  влияние пандемии covid-19 на психологическое б...  \\\n",
       "1  sars-cоv-2: что позволило вирусу вызвать длите...   \n",
       "2  факторы риска развития covid-19: иммунологичес...   \n",
       "3         к вопросу об антивирусной терапии covid-19   \n",
       "4  листериозный менингоэнцефалит: особенности теч...   \n",
       "\n",
       "                                          annotation   \n",
       "0  \\nцель исследования: оценка уровня психологиче...  \\\n",
       "1  \\nзавершившаяся пандемия covid-19 привела к за...   \n",
       "2  \\n\\r\\n\\t исследования последних лет, посвященн...   \n",
       "3  \\nв обзоре представлены данные о заболеваемост...   \n",
       "4  \\nпроблема листериоза многие годы привлекает в...   \n",
       "\n",
       "                                                text   \n",
       "0  \\nвведение\\r\\n психологическое благополучие ли...  \\\n",
       "1  \\nвведение\\r\\n коронавирусы представляют собой...   \n",
       "2  \\n\\r\\nвведение \\n\\r\\n\\t новая коронавирусная и...   \n",
       "3  \\n        острые респираторные вирусные инфекц...   \n",
       "4  \\nвведение\\r\\n проблема листериоза продолжает ...   \n",
       "\n",
       "                                         tokens_head   \n",
       "0  [влияние, пандемии, covid, 19, на, психологиче...  \\\n",
       "1  [sars, cоv, 2, что, позволило, вирусу, вызвать...   \n",
       "2  [факторы, риска, развития, covid, 19, иммуноло...   \n",
       "3  [к, вопросу, об, антивирусной, терапии, covid,...   \n",
       "4  [листериозный, менингоэнцефалит, особенности, ...   \n",
       "\n",
       "                                           tokens_an   \n",
       "0  [цель, исследования, оценка, уровня, психологи...  \\\n",
       "1  [завершившаяся, пандемия, covid, 19, привела, ...   \n",
       "2  [исследования, последних, лет, посвященные, ос...   \n",
       "3  [в, обзоре, представлены, данные, о, заболевае...   \n",
       "4  [проблема, листериоза, многие, годы, привлекае...   \n",
       "\n",
       "                                         tokens_text  \n",
       "0  [введение, психологическое, благополучие, личн...  \n",
       "1  [введение, коронавирусы, представляют, собой, ...  \n",
       "2  [введение, новая, коронавирусная, инфекция, co...  \n",
       "3  [острые, респираторные, вирусные, инфекции, ор...  \n",
       "4  [введение, проблема, листериоза, продолжает, п...  "
      ]
     },
     "execution_count": 15,
     "metadata": {},
     "output_type": "execute_result"
    }
   ],
   "source": [
    "from nltk.tokenize import RegexpTokenizer\n",
    "\n",
    "tokenizer = RegexpTokenizer(r'\\w+')\n",
    "\n",
    "corpus[\"tokens_head\"] = corpus[\"header\"].apply(tokenizer.tokenize)\n",
    "corpus[\"tokens_an\"] = corpus[\"annotation\"].apply(tokenizer.tokenize)\n",
    "corpus[\"tokens_text\"] = corpus[\"text\"].apply(tokenizer.tokenize)\n",
    "corpus.head()"
   ]
  },
  {
   "cell_type": "code",
   "execution_count": 16,
   "id": "f775e6f7",
   "metadata": {},
   "outputs": [],
   "source": [
    "corpus.to_csv(\"rmj_corpus_tokenized.csv\")"
   ]
  },
  {
   "cell_type": "code",
   "execution_count": 24,
   "id": "9a1a8972",
   "metadata": {},
   "outputs": [
    {
     "name": "stdout",
     "output_type": "stream",
     "text": [
      "WARNING:tensorflow:From C:\\Users\\dvb07\\anaconda3\\lib\\site-packages\\keras\\src\\losses.py:2976: The name tf.losses.sparse_softmax_cross_entropy is deprecated. Please use tf.compat.v1.losses.sparse_softmax_cross_entropy instead.\n",
      "\n"
     ]
    }
   ],
   "source": [
    "import keras"
   ]
  },
  {
   "cell_type": "code",
   "execution_count": 25,
   "id": "fdc94a8f",
   "metadata": {},
   "outputs": [],
   "source": [
    "from keras.preprocessing.text import Tokenizer\n",
    "from keras.preprocessing.sequence import pad_sequences\n",
    "from keras.utils import to_categorical"
   ]
  },
  {
   "cell_type": "code",
   "execution_count": 26,
   "id": "f532dd00",
   "metadata": {},
   "outputs": [
    {
     "name": "stdout",
     "output_type": "stream",
     "text": [
      "27057 words total, with a vocabulary size of 6991\n"
     ]
    }
   ],
   "source": [
    "all_words = [word for tokens in corpus[\"tokens_an\"] for word in tokens]\n",
    "VOCAB = sorted(list(set(all_words)))\n",
    "print(\"%s words total, with a vocabulary size of %s\" % (len(all_words), len(VOCAB)))"
   ]
  },
  {
   "cell_type": "code",
   "execution_count": 27,
   "id": "8b42ee0e",
   "metadata": {},
   "outputs": [
    {
     "name": "stdout",
     "output_type": "stream",
     "text": [
      "316299 words total, with a vocabulary size of 34354\n"
     ]
    }
   ],
   "source": [
    "all_words_1 = [word for tokens in corpus[\"tokens_text\"] for word in tokens]\n",
    "VOCAB_1 = sorted(list(set(all_words_1)))\n",
    "print(\"%s words total, with a vocabulary size of %s\" % (len(all_words_1), len(VOCAB_1)))"
   ]
  },
  {
   "cell_type": "code",
   "execution_count": 32,
   "id": "550a91a6",
   "metadata": {},
   "outputs": [],
   "source": [
    "summ = int(27057) + int(316299)"
   ]
  },
  {
   "cell_type": "code",
   "execution_count": 33,
   "id": "b1e561e6",
   "metadata": {
    "scrolled": false
   },
   "outputs": [
    {
     "name": "stdout",
     "output_type": "stream",
     "text": [
      "343356\n"
     ]
    }
   ],
   "source": [
    "print(summ)"
   ]
  },
  {
   "cell_type": "code",
   "execution_count": null,
   "id": "06bf77c9",
   "metadata": {},
   "outputs": [],
   "source": []
  }
 ],
 "metadata": {
  "kernelspec": {
   "display_name": "Python 3 (ipykernel)",
   "language": "python",
   "name": "python3"
  },
  "language_info": {
   "codemirror_mode": {
    "name": "ipython",
    "version": 3
   },
   "file_extension": ".py",
   "mimetype": "text/x-python",
   "name": "python",
   "nbconvert_exporter": "python",
   "pygments_lexer": "ipython3",
   "version": "3.10.9"
  },
  "widgets": {
   "application/vnd.jupyter.widget-state+json": {
    "state": {
     "05323df7344045e98205be4da978c9f3": {
      "model_module": "@jupyter-widgets/controls",
      "model_module_version": "2.0.0",
      "model_name": "FloatProgressModel",
      "state": {
       "bar_style": "danger",
       "layout": "IPY_MODEL_2e8406a685db433d85c041a07a76bcc7",
       "max": 1,
       "style": "IPY_MODEL_f31322de7ada4140a9deb7f6910efa89"
      }
     },
     "0969cd5b40b94630a79e7992d7dff744": {
      "model_module": "@jupyter-widgets/base",
      "model_module_version": "2.0.0",
      "model_name": "LayoutModel",
      "state": {}
     },
     "097b653c3427432c899add342135abbe": {
      "model_module": "@jupyter-widgets/controls",
      "model_module_version": "2.0.0",
      "model_name": "HTMLModel",
      "state": {
       "layout": "IPY_MODEL_dedde8e477a843e2bb49c814743bef88",
       "style": "IPY_MODEL_fbbb91bb10a0453496be5e1ecf87b285",
       "value": "  0%"
      }
     },
     "2e8406a685db433d85c041a07a76bcc7": {
      "model_module": "@jupyter-widgets/base",
      "model_module_version": "2.0.0",
      "model_name": "LayoutModel",
      "state": {}
     },
     "34556ac7fd4748f59c9001fccc7a731e": {
      "model_module": "@jupyter-widgets/controls",
      "model_module_version": "2.0.0",
      "model_name": "FloatProgressModel",
      "state": {
       "bar_style": "danger",
       "layout": "IPY_MODEL_dd6e80930ecd4ce487811f11a17d40b4",
       "max": 16,
       "style": "IPY_MODEL_e7624e2be7b44ea085017ba828d3164b",
       "value": 3
      }
     },
     "4ae0567474714c868f6547b74a00e415": {
      "model_module": "@jupyter-widgets/controls",
      "model_module_version": "2.0.0",
      "model_name": "HBoxModel",
      "state": {
       "children": [
        "IPY_MODEL_96e29483407c439fb684f398d3ec723a",
        "IPY_MODEL_34556ac7fd4748f59c9001fccc7a731e",
        "IPY_MODEL_70030c3204794be7b52a43a1de3616c8"
       ],
       "layout": "IPY_MODEL_bc7f30ee94f542bc95b34230836b47a1"
      }
     },
     "4c78c8136727479fafc7b3b9c1fe10cb": {
      "model_module": "@jupyter-widgets/base",
      "model_module_version": "2.0.0",
      "model_name": "LayoutModel",
      "state": {}
     },
     "6369d10b4e054724af4415d8945b5330": {
      "model_module": "@jupyter-widgets/base",
      "model_module_version": "2.0.0",
      "model_name": "LayoutModel",
      "state": {}
     },
     "70030c3204794be7b52a43a1de3616c8": {
      "model_module": "@jupyter-widgets/controls",
      "model_module_version": "2.0.0",
      "model_name": "HTMLModel",
      "state": {
       "layout": "IPY_MODEL_6369d10b4e054724af4415d8945b5330",
       "style": "IPY_MODEL_a1fd52a51bc2438dbd0efb00ff6c4546",
       "value": " 3/16 [00:29&lt;01:59,  9.19s/it]"
      }
     },
     "812004c07d50445482e26a761c84209b": {
      "model_module": "@jupyter-widgets/controls",
      "model_module_version": "2.0.0",
      "model_name": "HBoxModel",
      "state": {
       "children": [
        "IPY_MODEL_097b653c3427432c899add342135abbe",
        "IPY_MODEL_05323df7344045e98205be4da978c9f3",
        "IPY_MODEL_d5be7c750890427fa7ddf2089c595eb0"
       ],
       "layout": "IPY_MODEL_4c78c8136727479fafc7b3b9c1fe10cb"
      }
     },
     "8684d673b1174babae824e12c1599704": {
      "model_module": "@jupyter-widgets/base",
      "model_module_version": "2.0.0",
      "model_name": "LayoutModel",
      "state": {}
     },
     "96e29483407c439fb684f398d3ec723a": {
      "model_module": "@jupyter-widgets/controls",
      "model_module_version": "2.0.0",
      "model_name": "HTMLModel",
      "state": {
       "layout": "IPY_MODEL_0969cd5b40b94630a79e7992d7dff744",
       "style": "IPY_MODEL_99d22146fff94d088b0236202084a842",
       "value": " 19%"
      }
     },
     "99d22146fff94d088b0236202084a842": {
      "model_module": "@jupyter-widgets/controls",
      "model_module_version": "2.0.0",
      "model_name": "HTMLStyleModel",
      "state": {
       "description_width": "",
       "font_size": null,
       "text_color": null
      }
     },
     "a1fd52a51bc2438dbd0efb00ff6c4546": {
      "model_module": "@jupyter-widgets/controls",
      "model_module_version": "2.0.0",
      "model_name": "HTMLStyleModel",
      "state": {
       "description_width": "",
       "font_size": null,
       "text_color": null
      }
     },
     "bc7f30ee94f542bc95b34230836b47a1": {
      "model_module": "@jupyter-widgets/base",
      "model_module_version": "2.0.0",
      "model_name": "LayoutModel",
      "state": {}
     },
     "d5be7c750890427fa7ddf2089c595eb0": {
      "model_module": "@jupyter-widgets/controls",
      "model_module_version": "2.0.0",
      "model_name": "HTMLModel",
      "state": {
       "layout": "IPY_MODEL_8684d673b1174babae824e12c1599704",
       "style": "IPY_MODEL_e0ac4e2c2b1e40b7a617b5fd7f9411b8",
       "value": " 0/1 [00:30&lt;?, ?it/s]"
      }
     },
     "dd6e80930ecd4ce487811f11a17d40b4": {
      "model_module": "@jupyter-widgets/base",
      "model_module_version": "2.0.0",
      "model_name": "LayoutModel",
      "state": {}
     },
     "dedde8e477a843e2bb49c814743bef88": {
      "model_module": "@jupyter-widgets/base",
      "model_module_version": "2.0.0",
      "model_name": "LayoutModel",
      "state": {}
     },
     "e0ac4e2c2b1e40b7a617b5fd7f9411b8": {
      "model_module": "@jupyter-widgets/controls",
      "model_module_version": "2.0.0",
      "model_name": "HTMLStyleModel",
      "state": {
       "description_width": "",
       "font_size": null,
       "text_color": null
      }
     },
     "e7624e2be7b44ea085017ba828d3164b": {
      "model_module": "@jupyter-widgets/controls",
      "model_module_version": "2.0.0",
      "model_name": "ProgressStyleModel",
      "state": {
       "description_width": ""
      }
     },
     "f31322de7ada4140a9deb7f6910efa89": {
      "model_module": "@jupyter-widgets/controls",
      "model_module_version": "2.0.0",
      "model_name": "ProgressStyleModel",
      "state": {
       "description_width": ""
      }
     },
     "fbbb91bb10a0453496be5e1ecf87b285": {
      "model_module": "@jupyter-widgets/controls",
      "model_module_version": "2.0.0",
      "model_name": "HTMLStyleModel",
      "state": {
       "description_width": "",
       "font_size": null,
       "text_color": null
      }
     }
    },
    "version_major": 2,
    "version_minor": 0
   }
  }
 },
 "nbformat": 4,
 "nbformat_minor": 5
}
